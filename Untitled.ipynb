{
 "cells": [
  {
   "cell_type": "code",
   "execution_count": 1,
   "id": "895d572d-2ffd-466a-a260-e57859a6449e",
   "metadata": {},
   "outputs": [
    {
     "ename": "ModuleNotFoundError",
     "evalue": "No module named 'Preprocessing'",
     "output_type": "error",
     "traceback": [
      "\u001b[1;31m---------------------------------------------------------------------------\u001b[0m",
      "\u001b[1;31mModuleNotFoundError\u001b[0m                       Traceback (most recent call last)",
      "Cell \u001b[1;32mIn[1], line 2\u001b[0m\n\u001b[0;32m      1\u001b[0m \u001b[38;5;28;01mimport\u001b[39;00m \u001b[38;5;21;01mnumpy\u001b[39;00m \u001b[38;5;28;01mas\u001b[39;00m \u001b[38;5;21;01mnp\u001b[39;00m\n\u001b[1;32m----> 2\u001b[0m \u001b[38;5;28;01mfrom\u001b[39;00m \u001b[38;5;21;01mPreprocessing\u001b[39;00m \u001b[38;5;28;01mimport\u001b[39;00m OneHotEncoder, Normalize\n",
      "\u001b[1;31mModuleNotFoundError\u001b[0m: No module named 'Preprocessing'"
     ]
    }
   ],
   "source": [
    "import numpy as np\n",
    "\n",
    "class Initilize:\n",
    "\n",
    "    def __init__(self, i_size, o_size, activation_fn, init_method = \"xavier\"):\n",
    "        self.i_size = i_size\n",
    "        self.o_size = o_size\n",
    "        self.activation_fn = activation_fn\n",
    "\n",
    "    def Init_weight(self, init_method):\n",
    "\n",
    "        if init_method == \"xavier_N\":\n",
    "            a = np.sqrt(1 / i_size)\n",
    "            w = np.random.randn(o_size,i_size)*a\n",
    "\n",
    "        elif init_method == \"xavier_U\":\n",
    "            a = np.sqrt(6 / (o_size + i_size))\n",
    "            w = np.random.randn(-a, a, (o_size, i_size))\n",
    "\n",
    "        elif init_method == \"He_N\":\n",
    "            a = np.sqrt(2 / i_size)\n",
    "            w = np.random.randn(o_size,i_size)*a\n",
    "\n",
    "        elif init_method == \"He_U\":\n",
    "            a = np.sqrt(6 / i_size)\n",
    "            w = np.random.randn(-a, a, (o_size, i_size))\n",
    "            \n",
    "            \n"
   ]
  },
  {
   "cell_type": "code",
   "execution_count": null,
   "id": "2064d83c-b27e-46e6-bef2-c24d9faf70ff",
   "metadata": {},
   "outputs": [],
   "source": []
  }
 ],
 "metadata": {
  "kernelspec": {
   "display_name": "Python [conda env:base] *",
   "language": "python",
   "name": "conda-base-py"
  },
  "language_info": {
   "codemirror_mode": {
    "name": "ipython",
    "version": 3
   },
   "file_extension": ".py",
   "mimetype": "text/x-python",
   "name": "python",
   "nbconvert_exporter": "python",
   "pygments_lexer": "ipython3",
   "version": "3.12.4"
  }
 },
 "nbformat": 4,
 "nbformat_minor": 5
}
