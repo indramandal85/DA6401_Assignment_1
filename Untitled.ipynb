{
  "cells": [
    {
      "cell_type": "code",
      "execution_count": 2,
      "id": "895d572d-2ffd-466a-a260-e57859a6449e",
      "metadata": {
        "id": "895d572d-2ffd-466a-a260-e57859a6449e",
        "outputId": "0d7e3c96-ed2d-4ba2-ea46-1fd45aff2231",
        "colab": {
          "base_uri": "https://localhost:8080/",
          "height": 111
        }
      },
      "outputs": [
        {
          "output_type": "error",
          "ename": "IndentationError",
          "evalue": "unindent does not match any outer indentation level (<tokenize>, line 28)",
          "traceback": [
            "\u001b[0;36m  File \u001b[0;32m\"<tokenize>\"\u001b[0;36m, line \u001b[0;32m28\u001b[0m\n\u001b[0;31m    elif init_method == \"Random\":\u001b[0m\n\u001b[0m    ^\u001b[0m\n\u001b[0;31mIndentationError\u001b[0m\u001b[0;31m:\u001b[0m unindent does not match any outer indentation level\n"
          ]
        }
      ],
      "source": [
        "import numpy as np\n",
        "\n",
        "class Initilize:\n",
        "\n",
        "    def __init__(self, i_size, o_size, activation_fn, init_method = \"xavier\"):\n",
        "        self.i_size = i_size\n",
        "        self.o_size = o_size\n",
        "        self.activation_fn = activation_fn\n",
        "\n",
        "    def Init_weight(self, init_method):\n",
        "\n",
        "        if init_method == \"Xavier_N\":\n",
        "            a = np.sqrt(1 / i_size)\n",
        "            w = np.random.randn(o_size,i_size)*a\n",
        "\n",
        "        elif init_method == \"Xavier_U\":\n",
        "            a = np.sqrt(6 / (o_size + i_size))\n",
        "            w = np.random.randn(-a, a, (o_size, i_size))\n",
        "\n",
        "        elif init_method == \"He_N\":\n",
        "            a = np.sqrt(2 / i_size)\n",
        "            w = np.random.randn(o_size,i_size)*a\n",
        "\n",
        "        elif init_method == \"He_U\":\n",
        "            a = np.sqrt(6 / i_size)\n",
        "            w = np.random.randn(-a, a, (o_size, i_size))\n",
        "\n",
        "         elif init_method == \"Random\":\n",
        "            w = np.random.randn(o_size,i_size)*0.01\n",
        "\n",
        "          b = np.zeros(o_size, 1)\n",
        "\n",
        "\n"
      ]
    },
    {
      "cell_type": "code",
      "execution_count": null,
      "id": "2064d83c-b27e-46e6-bef2-c24d9faf70ff",
      "metadata": {
        "id": "2064d83c-b27e-46e6-bef2-c24d9faf70ff"
      },
      "outputs": [],
      "source": []
    }
  ],
  "metadata": {
    "kernelspec": {
      "display_name": "Python [conda env:base] *",
      "language": "python",
      "name": "conda-base-py"
    },
    "language_info": {
      "codemirror_mode": {
        "name": "ipython",
        "version": 3
      },
      "file_extension": ".py",
      "mimetype": "text/x-python",
      "name": "python",
      "nbconvert_exporter": "python",
      "pygments_lexer": "ipython3",
      "version": "3.12.4"
    },
    "colab": {
      "provenance": []
    }
  },
  "nbformat": 4,
  "nbformat_minor": 5
}