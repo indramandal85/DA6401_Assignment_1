{
  "cells": [
    {
      "cell_type": "code",
      "source": [
        "def relu(X):\n",
        "  # Calculates the Rectified Linear Unit (ReLU) function\n",
        "  return np.maximum(X,0)\n",
        "\n",
        "def sigmoid(X):\n",
        "  # Calculates the sigmoid function\n",
        "  return np.exp(-np.logaddexp(0, -X))\n",
        "\n",
        "def softmax(X):\n",
        "  # Calculates the softmax function\n",
        "  e_X = np.exp(X - np.max(X, axis = 0))\n",
        "  return e_X / e_X.sum(axis = 0)\n",
        "\n",
        "def tanh(X):\n",
        "  return np.tanh(X)\n",
        "\n",
        "def linear(W, X, b):\n",
        "  # Calculates the linear function\n",
        "  return W @ X + b\n",
        "\n",
        "def grad_relu(X):\n",
        "  # Calculates the gradient of Rectified Linear Unit (ReLU) function\n",
        "  return X > 0\n",
        "\n",
        "def grad_sigmoid(X):\n",
        "  # Calculates the gradient of sigmoid function\n",
        "  return sigmoid(X) * (1 - sigmoid(X))\n",
        "\n",
        "def grad_tanh(X):\n",
        "  # Calculates the gradient of tanh function\n",
        "  return 1 - np.tanh(X)**2\n",
        "\n",
        "def Softmax_CrossEntropy_grad(Y_pred, Y):\n",
        "  # Calculates the gradient of the output layer with softmax activation and cross entropy loss\n",
        "  # layer -- The dictionary for the output layer contianing info about it\n",
        "  # y -- True output\n",
        "  return -(Y - Y_pred)\n",
        "\n",
        "def Softmax_SquaredError_grad(Y_pred, Y):\n",
        "  return ((Y_pred - Y) - ((Y_pred - Y) * Y_pred).sum(axis = 0)) * Y_pred"
      ],
      "metadata": {
        "id": "01ZCcJdxviK6"
      },
      "id": "01ZCcJdxviK6",
      "execution_count": 53,
      "outputs": []
    },
    {
      "cell_type": "code",
      "execution_count": 104,
      "id": "895d572d-2ffd-466a-a260-e57859a6449e",
      "metadata": {
        "colab": {
          "base_uri": "https://localhost:8080/",
          "height": 111
        },
        "id": "895d572d-2ffd-466a-a260-e57859a6449e",
        "outputId": "7bb208ba-65f1-46b2-a1c2-8b32f4235584"
      },
      "outputs": [
        {
          "output_type": "error",
          "ename": "SyntaxError",
          "evalue": "invalid syntax (<ipython-input-104-22894b52aced>, line 57)",
          "traceback": [
            "\u001b[0;36m  File \u001b[0;32m\"<ipython-input-104-22894b52aced>\"\u001b[0;36m, line \u001b[0;32m57\u001b[0m\n\u001b[0;31m    def\u001b[0m\n\u001b[0m        ^\u001b[0m\n\u001b[0;31mSyntaxError\u001b[0m\u001b[0;31m:\u001b[0m invalid syntax\n"
          ]
        }
      ],
      "source": [
        "import numpy as np\n",
        "\n",
        "class Initilize:\n",
        "\n",
        "    def __init__(self, i_size, o_size,activation_fn, method = \"Xavier_U\"):\n",
        "        self.i_size = i_size\n",
        "        self.o_size = o_size\n",
        "        self.activation_fn = activation_fn\n",
        "        self.w, self.b = self.Init_weight(method)\n",
        "\n",
        "    def Init_weight(self, init_method):\n",
        "\n",
        "\n",
        "        if init_method == \"Xavier_N\":\n",
        "            a = np.sqrt(1 / self.i_size)\n",
        "            w = np.random.randn(self.o_size,self.i_size)*a\n",
        "\n",
        "        elif init_method == \"Xavier_U\":\n",
        "            a = np.sqrt(6 / (self.o_size + self.i_size))\n",
        "            w = np.random.uniform((-a), a,(self.o_size, self.i_size))\n",
        "\n",
        "        elif init_method == \"He_N\":\n",
        "            a = np.sqrt(2 / self.i_size)\n",
        "            w = np.random.randn(self.o_size,self.i_size)*a\n",
        "\n",
        "        elif init_method == \"He_U\":\n",
        "            a = np.sqrt(6 / self.i_size)\n",
        "            w = np.random.uniform(-a, a, (self.o_size, self.i_size))\n",
        "\n",
        "        elif init_method == \"Random\":\n",
        "            w = np.random.randn(self.o_size,self.i_size)*0.01\n",
        "\n",
        "        b = np.zeros((self.o_size,1))\n",
        "\n",
        "        return w, b\n",
        "\n",
        "\n",
        "\n",
        "\n",
        "class Weight_bais:\n",
        "  def __init__(self, layer_dimension, activation_fn, method):\n",
        "    self.n = layer_dimension\n",
        "    self.activation_fn = activation_fn\n",
        "    self.method = method\n",
        "\n",
        "  def Init_network(self, layer_dimension):\n",
        "    self.n = layer_dimension\n",
        "    self.network = {}\n",
        "\n",
        "    for i in range(1, len(self.n)):\n",
        "      self.network[\"w\" + str(i)] = Initilize(self.n[i], self.n[i-1], self.method).Init_weight(self.method)[0]\n",
        "      self.network[\"b\" + str(i)] = Initilize(self.n[i], self.n[i-1], self.method).Init_weight(self.method)[1]\n",
        "      self.network [\"h\"+ str(i)] = self.activation_fn[i]\n",
        "\n",
        "    return self.network\n",
        "\n",
        "\n",
        "\n",
        "class Feedforward:\n",
        "\n",
        "  def __init__(self, Prev_layer_H, w, b, activation_fn):\n",
        "    self.Prev_layer_H= Prev_layer_H\n",
        "    self.w = w\n",
        "    self.b = b\n",
        "    self.activation_fn = activation_fn\n",
        "\n",
        "\n",
        "  def Preactivation_cal(self):\n",
        "\n",
        "    A = np.dot(self.w.T, self.Prev_layer_H) + self.b\n",
        "    H = apply_activation(\"self.activation_fn\", A).do_activation()\n",
        "    cache = (self.Prev_layer_H, H)\n",
        "    return cache , A\n",
        "\n"
      ]
    },
    {
      "cell_type": "code",
      "source": [],
      "metadata": {
        "id": "NV7gYASA0m8t"
      },
      "id": "NV7gYASA0m8t",
      "execution_count": 104,
      "outputs": []
    },
    {
      "cell_type": "code",
      "execution_count": 102,
      "id": "2064d83c-b27e-46e6-bef2-c24d9faf70ff",
      "metadata": {
        "colab": {
          "base_uri": "https://localhost:8080/"
        },
        "id": "2064d83c-b27e-46e6-bef2-c24d9faf70ff",
        "outputId": "f257a460-eee9-4f22-862f-4215c591b64f"
      },
      "outputs": [
        {
          "output_type": "execute_result",
          "data": {
            "text/plain": [
              "2"
            ]
          },
          "metadata": {},
          "execution_count": 102
        }
      ],
      "source": [
        "len(Initilize(3,5,\"Xavier_N\").Init_weight(\"Xavier_N\"))"
      ]
    },
    {
      "cell_type": "code",
      "source": [
        "Forward_prop([5,4,3,2],[relu,relu,relu,sigmoid],\"Xavier_N\").Init_network([5,4,3,2])"
      ],
      "metadata": {
        "colab": {
          "base_uri": "https://localhost:8080/"
        },
        "id": "4NKWIZNDdN7u",
        "outputId": "b038d39d-ca2e-4a0c-da80-a47ac8152d38"
      },
      "id": "4NKWIZNDdN7u",
      "execution_count": 103,
      "outputs": [
        {
          "output_type": "execute_result",
          "data": {
            "text/plain": [
              "{'w1': array([[-0.27999331, -1.0930367 ,  0.01048748, -0.43517163],\n",
              "        [-0.39052083,  0.49044454, -0.01907751, -0.67797169],\n",
              "        [ 1.30743988,  0.19800546, -0.45163774, -0.20349674],\n",
              "        [ 1.14084103,  0.04569359,  0.28696848,  0.40038092],\n",
              "        [ 0.19523306,  0.35362862, -0.01828748, -0.3955419 ]]),\n",
              " 'b1': array([[0.],\n",
              "        [0.],\n",
              "        [0.],\n",
              "        [0.],\n",
              "        [0.]]),\n",
              " 'activation function of layer 1': <function __main__.relu(X)>,\n",
              " 'w2': array([[-0.74585463,  0.04709373,  0.2229035 ],\n",
              "        [-0.19101241, -0.14023683, -1.7171252 ],\n",
              "        [-0.17102223,  0.17262247, -0.90213034],\n",
              "        [-0.15673525, -0.28460169, -0.57955324]]),\n",
              " 'b2': array([[0.],\n",
              "        [0.],\n",
              "        [0.],\n",
              "        [0.]]),\n",
              " 'activation function of layer 2': <function __main__.relu(X)>,\n",
              " 'w3': array([[-0.21662752,  0.19340068],\n",
              "        [-0.0098293 , -0.83626673],\n",
              "        [-0.00766862, -0.23964386]]),\n",
              " 'b3': array([[0.],\n",
              "        [0.],\n",
              "        [0.]]),\n",
              " 'activation function of layer 3': <function __main__.sigmoid(X)>}"
            ]
          },
          "metadata": {},
          "execution_count": 103
        }
      ]
    },
    {
      "cell_type": "code",
      "source": [],
      "metadata": {
        "id": "eAhzWxfwt_ub"
      },
      "id": "eAhzWxfwt_ub",
      "execution_count": null,
      "outputs": []
    }
  ],
  "metadata": {
    "kernelspec": {
      "display_name": "Python [conda env:base] *",
      "language": "python",
      "name": "conda-base-py"
    },
    "language_info": {
      "codemirror_mode": {
        "name": "ipython",
        "version": 3
      },
      "file_extension": ".py",
      "mimetype": "text/x-python",
      "name": "python",
      "nbconvert_exporter": "python",
      "pygments_lexer": "ipython3",
      "version": "3.12.4"
    },
    "colab": {
      "provenance": []
    }
  },
  "nbformat": 4,
  "nbformat_minor": 5
}