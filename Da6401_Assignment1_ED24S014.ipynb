{
  "nbformat": 4,
  "nbformat_minor": 0,
  "metadata": {
    "colab": {
      "provenance": []
    },
    "kernelspec": {
      "name": "python3",
      "display_name": "Python 3"
    },
    "language_info": {
      "name": "python"
    }
  },
  "cells": [
    {
      "cell_type": "markdown",
      "source": [
        "**--------------------------------------------------------------------------------------------------------------------------------------------------------------**"
      ],
      "metadata": {
        "id": "wOf-9eHQIIN2"
      }
    },
    {
      "cell_type": "markdown",
      "source": [
        "\n",
        "# ✅ Question 1 :\n",
        "## Download the fashion-MNIST dataset and plot 1 sample image for each class as shown in the grid below. Use from keras.datasets import fashion_mnist for getting the fashion mnist dataset."
      ],
      "metadata": {
        "id": "KQwDjvooANHb"
      }
    },
    {
      "cell_type": "markdown",
      "source": [
        "**--------------------------------------------------------------------------------------------------------------------------------------------------------------**"
      ],
      "metadata": {
        "id": "hgqEXnh5H_NV"
      }
    },
    {
      "cell_type": "code",
      "source": [
        "import matplotlib.pyplot as plt\n",
        "import numpy as np\n",
        "!pip install wandb\n",
        "import wandb\n",
        "wandb.login()"
      ],
      "metadata": {
        "id": "ybFbuM6D7N7q",
        "colab": {
          "base_uri": "https://localhost:8080/",
          "height": 637
        },
        "outputId": "55ba0904-9710-4f1c-bf30-f94dee6b0325"
      },
      "execution_count": null,
      "outputs": [
        {
          "output_type": "stream",
          "name": "stdout",
          "text": [
            "Requirement already satisfied: wandb in /usr/local/lib/python3.11/dist-packages (0.19.8)\n",
            "Requirement already satisfied: click!=8.0.0,>=7.1 in /usr/local/lib/python3.11/dist-packages (from wandb) (8.1.8)\n",
            "Requirement already satisfied: docker-pycreds>=0.4.0 in /usr/local/lib/python3.11/dist-packages (from wandb) (0.4.0)\n",
            "Requirement already satisfied: gitpython!=3.1.29,>=1.0.0 in /usr/local/lib/python3.11/dist-packages (from wandb) (3.1.44)\n",
            "Requirement already satisfied: platformdirs in /usr/local/lib/python3.11/dist-packages (from wandb) (4.3.6)\n",
            "Requirement already satisfied: protobuf!=4.21.0,!=5.28.0,<6,>=3.19.0 in /usr/local/lib/python3.11/dist-packages (from wandb) (5.29.3)\n",
            "Requirement already satisfied: psutil>=5.0.0 in /usr/local/lib/python3.11/dist-packages (from wandb) (5.9.5)\n",
            "Requirement already satisfied: pydantic<3,>=2.6 in /usr/local/lib/python3.11/dist-packages (from wandb) (2.10.6)\n",
            "Requirement already satisfied: pyyaml in /usr/local/lib/python3.11/dist-packages (from wandb) (6.0.2)\n",
            "Requirement already satisfied: requests<3,>=2.0.0 in /usr/local/lib/python3.11/dist-packages (from wandb) (2.32.3)\n",
            "Requirement already satisfied: sentry-sdk>=2.0.0 in /usr/local/lib/python3.11/dist-packages (from wandb) (2.23.1)\n",
            "Requirement already satisfied: setproctitle in /usr/local/lib/python3.11/dist-packages (from wandb) (1.3.5)\n",
            "Requirement already satisfied: setuptools in /usr/local/lib/python3.11/dist-packages (from wandb) (75.1.0)\n",
            "Requirement already satisfied: typing-extensions<5,>=4.4 in /usr/local/lib/python3.11/dist-packages (from wandb) (4.12.2)\n",
            "Requirement already satisfied: six>=1.4.0 in /usr/local/lib/python3.11/dist-packages (from docker-pycreds>=0.4.0->wandb) (1.17.0)\n",
            "Requirement already satisfied: gitdb<5,>=4.0.1 in /usr/local/lib/python3.11/dist-packages (from gitpython!=3.1.29,>=1.0.0->wandb) (4.0.12)\n",
            "Requirement already satisfied: annotated-types>=0.6.0 in /usr/local/lib/python3.11/dist-packages (from pydantic<3,>=2.6->wandb) (0.7.0)\n",
            "Requirement already satisfied: pydantic-core==2.27.2 in /usr/local/lib/python3.11/dist-packages (from pydantic<3,>=2.6->wandb) (2.27.2)\n",
            "Requirement already satisfied: charset-normalizer<4,>=2 in /usr/local/lib/python3.11/dist-packages (from requests<3,>=2.0.0->wandb) (3.4.1)\n",
            "Requirement already satisfied: idna<4,>=2.5 in /usr/local/lib/python3.11/dist-packages (from requests<3,>=2.0.0->wandb) (3.10)\n",
            "Requirement already satisfied: urllib3<3,>=1.21.1 in /usr/local/lib/python3.11/dist-packages (from requests<3,>=2.0.0->wandb) (2.3.0)\n",
            "Requirement already satisfied: certifi>=2017.4.17 in /usr/local/lib/python3.11/dist-packages (from requests<3,>=2.0.0->wandb) (2025.1.31)\n",
            "Requirement already satisfied: smmap<6,>=3.0.1 in /usr/local/lib/python3.11/dist-packages (from gitdb<5,>=4.0.1->gitpython!=3.1.29,>=1.0.0->wandb) (5.0.2)\n"
          ]
        },
        {
          "output_type": "stream",
          "name": "stderr",
          "text": [
            "\u001b[34m\u001b[1mwandb\u001b[0m: Using wandb-core as the SDK backend.  Please refer to https://wandb.me/wandb-core for more information.\n"
          ]
        },
        {
          "output_type": "display_data",
          "data": {
            "text/plain": [
              "<IPython.core.display.Javascript object>"
            ],
            "application/javascript": [
              "\n",
              "        window._wandbApiKey = new Promise((resolve, reject) => {\n",
              "            function loadScript(url) {\n",
              "            return new Promise(function(resolve, reject) {\n",
              "                let newScript = document.createElement(\"script\");\n",
              "                newScript.onerror = reject;\n",
              "                newScript.onload = resolve;\n",
              "                document.body.appendChild(newScript);\n",
              "                newScript.src = url;\n",
              "            });\n",
              "            }\n",
              "            loadScript(\"https://cdn.jsdelivr.net/npm/postmate/build/postmate.min.js\").then(() => {\n",
              "            const iframe = document.createElement('iframe')\n",
              "            iframe.style.cssText = \"width:0;height:0;border:none\"\n",
              "            document.body.appendChild(iframe)\n",
              "            const handshake = new Postmate({\n",
              "                container: iframe,\n",
              "                url: 'https://wandb.ai/authorize'\n",
              "            });\n",
              "            const timeout = setTimeout(() => reject(\"Couldn't auto authenticate\"), 5000)\n",
              "            handshake.then(function(child) {\n",
              "                child.on('authorize', data => {\n",
              "                    clearTimeout(timeout)\n",
              "                    resolve(data)\n",
              "                });\n",
              "            });\n",
              "            })\n",
              "        });\n",
              "    "
            ]
          },
          "metadata": {}
        },
        {
          "output_type": "stream",
          "name": "stderr",
          "text": [
            "\u001b[34m\u001b[1mwandb\u001b[0m: Logging into wandb.ai. (Learn how to deploy a W&B server locally: https://wandb.me/wandb-server)\n",
            "\u001b[34m\u001b[1mwandb\u001b[0m: You can find your API key in your browser here: https://wandb.ai/authorize\n",
            "wandb: Paste an API key from your profile and hit enter:"
          ]
        },
        {
          "name": "stdout",
          "output_type": "stream",
          "text": [
            " ··········\n"
          ]
        },
        {
          "output_type": "stream",
          "name": "stderr",
          "text": [
            "\u001b[34m\u001b[1mwandb\u001b[0m: \u001b[33mWARNING\u001b[0m If you're specifying your api key in code, ensure this code is not shared publicly.\n",
            "\u001b[34m\u001b[1mwandb\u001b[0m: \u001b[33mWARNING\u001b[0m Consider setting the WANDB_API_KEY environment variable, or running `wandb login` from the command line.\n",
            "\u001b[34m\u001b[1mwandb\u001b[0m: No netrc file found, creating one.\n",
            "\u001b[34m\u001b[1mwandb\u001b[0m: Appending key for api.wandb.ai to your netrc file: /root/.netrc\n",
            "\u001b[34m\u001b[1mwandb\u001b[0m: Currently logged in as: \u001b[33med24s014\u001b[0m (\u001b[33med24s014-indian-institute-of-technology-madras\u001b[0m) to \u001b[32mhttps://api.wandb.ai\u001b[0m. Use \u001b[1m`wandb login --relogin`\u001b[0m to force relogin\n"
          ]
        },
        {
          "output_type": "execute_result",
          "data": {
            "text/plain": [
              "True"
            ]
          },
          "metadata": {},
          "execution_count": 1
        }
      ]
    },
    {
      "cell_type": "code",
      "source": [
        "# ------------------- Imports -------------------\n",
        "import numpy as np\n",
        "import wandb\n",
        "from keras.datasets import fashion_mnist\n",
        "\n",
        "# ------------------- Load Fashion-MNIST Dataset -------------------\n",
        "# Download and split the dataset into train and test sets\n",
        "(trainX, trainy), (testX, testy) = fashion_mnist.load_data()\n",
        "\n",
        "# ------------------- Define Constants -------------------\n",
        "# Number of classes in the dataset\n",
        "N_CLASSES = np.unique(trainy).shape[0]\n",
        "\n",
        "# Class labels for the Fashion-MNIST dataset\n",
        "IMG_LABELS = ['T-shirt/top', 'Trouser', 'Pullover', 'Dress', 'Coat',\n",
        "              'Sandal', 'Shirt', 'Sneaker', 'Bag', 'Ankle boot']\n",
        "\n",
        "# ------------------- Function to Get Sample Images and Log to W&B -------------------\n",
        "def getSampleImages(nClass, imgLabels, X, y, nSamples):\n",
        "    '''\n",
        "    Logs sample images from each class to W&B\n",
        "\n",
        "    Arguments:\n",
        "      nClass     : Number of output classes\n",
        "      imgLabels  : Class labels (as list of strings)\n",
        "      X          : Image data (numpy array)\n",
        "      y          : Labels (numpy array)\n",
        "      nSamples   : Number of samples per class to log\n",
        "    '''\n",
        "\n",
        "    # Initialize list to collect samples per class\n",
        "    sampleImgsX = [[] for _ in range(nClass)]\n",
        "\n",
        "    # Collect samples\n",
        "    for i in range(y.shape[0]):\n",
        "        label = y[i]\n",
        "        if len(sampleImgsX[label]) < nSamples:\n",
        "            sampleImgsX[label].append(X[i])\n",
        "\n",
        "    # Convert to wandb.Image with caption\n",
        "    sampleImgsList = []\n",
        "    for i in range(nClass):\n",
        "        for j in range(nSamples):\n",
        "            sampleImgsList.append(wandb.Image(sampleImgsX[i][j], caption=imgLabels[i]))\n",
        "\n",
        "    # Shuffle and log to W&B\n",
        "    np.random.shuffle(sampleImgsList)\n",
        "    wandb.log({\"example\": sampleImgsList})\n",
        "\n",
        "\n",
        "# ------------------- Question 1: W&B Logging -------------------\n",
        "# Initialize wandb run\n",
        "run = wandb.init(project=\"DL_A1_Q1\", name=\"Q1_FashionMNIST_Sample_Images\")\n",
        "\n",
        "getSampleImages(N_CLASSES, IMG_LABELS, trainX, trainy, 1)\n",
        "\n",
        "# Finish the run\n",
        "run.finish()\n"
      ],
      "metadata": {
        "colab": {
          "base_uri": "https://localhost:8080/",
          "height": 321
        },
        "id": "AjpkIvO_7RNo",
        "outputId": "ff5e219f-e528-46f1-cb04-c2cb2958f551"
      },
      "execution_count": null,
      "outputs": [
        {
          "output_type": "stream",
          "name": "stdout",
          "text": [
            "Downloading data from https://storage.googleapis.com/tensorflow/tf-keras-datasets/train-labels-idx1-ubyte.gz\n",
            "\u001b[1m29515/29515\u001b[0m \u001b[32m━━━━━━━━━━━━━━━━━━━━\u001b[0m\u001b[37m\u001b[0m \u001b[1m0s\u001b[0m 0us/step\n",
            "Downloading data from https://storage.googleapis.com/tensorflow/tf-keras-datasets/train-images-idx3-ubyte.gz\n",
            "\u001b[1m26421880/26421880\u001b[0m \u001b[32m━━━━━━━━━━━━━━━━━━━━\u001b[0m\u001b[37m\u001b[0m \u001b[1m2s\u001b[0m 0us/step\n",
            "Downloading data from https://storage.googleapis.com/tensorflow/tf-keras-datasets/t10k-labels-idx1-ubyte.gz\n",
            "\u001b[1m5148/5148\u001b[0m \u001b[32m━━━━━━━━━━━━━━━━━━━━\u001b[0m\u001b[37m\u001b[0m \u001b[1m0s\u001b[0m 0us/step\n",
            "Downloading data from https://storage.googleapis.com/tensorflow/tf-keras-datasets/t10k-images-idx3-ubyte.gz\n",
            "\u001b[1m4422102/4422102\u001b[0m \u001b[32m━━━━━━━━━━━━━━━━━━━━\u001b[0m\u001b[37m\u001b[0m \u001b[1m1s\u001b[0m 0us/step\n"
          ]
        },
        {
          "output_type": "display_data",
          "data": {
            "text/plain": [
              "<IPython.core.display.HTML object>"
            ],
            "text/html": [
              "Tracking run with wandb version 0.19.8"
            ]
          },
          "metadata": {}
        },
        {
          "output_type": "display_data",
          "data": {
            "text/plain": [
              "<IPython.core.display.HTML object>"
            ],
            "text/html": [
              "Run data is saved locally in <code>/content/wandb/run-20250321_064310-5i02nss8</code>"
            ]
          },
          "metadata": {}
        },
        {
          "output_type": "display_data",
          "data": {
            "text/plain": [
              "<IPython.core.display.HTML object>"
            ],
            "text/html": [
              "Syncing run <strong><a href='https://wandb.ai/ed24s014-indian-institute-of-technology-madras/DL_A1_Q1/runs/5i02nss8' target=\"_blank\">Q1_FashionMNIST_Sample_Images</a></strong> to <a href='https://wandb.ai/ed24s014-indian-institute-of-technology-madras/DL_A1_Q1' target=\"_blank\">Weights & Biases</a> (<a href='https://wandb.me/developer-guide' target=\"_blank\">docs</a>)<br>"
            ]
          },
          "metadata": {}
        },
        {
          "output_type": "display_data",
          "data": {
            "text/plain": [
              "<IPython.core.display.HTML object>"
            ],
            "text/html": [
              " View project at <a href='https://wandb.ai/ed24s014-indian-institute-of-technology-madras/DL_A1_Q1' target=\"_blank\">https://wandb.ai/ed24s014-indian-institute-of-technology-madras/DL_A1_Q1</a>"
            ]
          },
          "metadata": {}
        },
        {
          "output_type": "display_data",
          "data": {
            "text/plain": [
              "<IPython.core.display.HTML object>"
            ],
            "text/html": [
              " View run at <a href='https://wandb.ai/ed24s014-indian-institute-of-technology-madras/DL_A1_Q1/runs/5i02nss8' target=\"_blank\">https://wandb.ai/ed24s014-indian-institute-of-technology-madras/DL_A1_Q1/runs/5i02nss8</a>"
            ]
          },
          "metadata": {}
        },
        {
          "output_type": "display_data",
          "data": {
            "text/plain": [
              "<IPython.core.display.HTML object>"
            ],
            "text/html": []
          },
          "metadata": {}
        },
        {
          "output_type": "display_data",
          "data": {
            "text/plain": [
              "<IPython.core.display.HTML object>"
            ],
            "text/html": [
              " View run <strong style=\"color:#cdcd00\">Q1_FashionMNIST_Sample_Images</strong> at: <a href='https://wandb.ai/ed24s014-indian-institute-of-technology-madras/DL_A1_Q1/runs/5i02nss8' target=\"_blank\">https://wandb.ai/ed24s014-indian-institute-of-technology-madras/DL_A1_Q1/runs/5i02nss8</a><br> View project at: <a href='https://wandb.ai/ed24s014-indian-institute-of-technology-madras/DL_A1_Q1' target=\"_blank\">https://wandb.ai/ed24s014-indian-institute-of-technology-madras/DL_A1_Q1</a><br>Synced 5 W&B file(s), 10 media file(s), 0 artifact file(s) and 0 other file(s)"
            ]
          },
          "metadata": {}
        },
        {
          "output_type": "display_data",
          "data": {
            "text/plain": [
              "<IPython.core.display.HTML object>"
            ],
            "text/html": [
              "Find logs at: <code>./wandb/run-20250321_064310-5i02nss8/logs</code>"
            ]
          },
          "metadata": {}
        }
      ]
    },
    {
      "cell_type": "markdown",
      "source": [
        "**--------------------------------------------------------------------------------------------------------------------------------------------------------------**"
      ],
      "metadata": {
        "id": "RDPiii6aIDO9"
      }
    },
    {
      "cell_type": "markdown",
      "source": [
        "\n",
        "\n",
        "# ✅ Question 2 :\n",
        "## Implement a feedforward neural network which takes images from the fashion-mnist data as input and outputs a probability distribution over the 10 classes. Your code should be flexible such that it is easy to change the number of hidden layers and the number of neurons in each hidden layer."
      ],
      "metadata": {
        "id": "AJgpSSS-_woL"
      }
    },
    {
      "cell_type": "markdown",
      "source": [
        "**Preprocessing code**"
      ],
      "metadata": {
        "id": "UUTKPOYqAz3a"
      }
    },
    {
      "cell_type": "markdown",
      "source": [
        "**--------------------------------------------------------------------------------------------------------------------------------------------------------------**"
      ],
      "metadata": {
        "id": "h2o0HqEZIERN"
      }
    },
    {
      "cell_type": "code",
      "execution_count": null,
      "metadata": {
        "id": "bAOo8LX0relx"
      },
      "outputs": [],
      "source": [
        "'''\n",
        "This code defines classes for one-hot encoding labels, normalizing input features, and splitting data into training and validation sets,\n",
        "which are essential steps in preprocessing for machine learning tasks. Each class handles a specific transformation to prepare data for\n",
        "model training and evaluation.\n",
        "'''\n",
        "import numpy  as np\n",
        "\n",
        "class OneHotEncoder:\n",
        "\n",
        "    def __init__(self,x, y):\n",
        "        self.y = y\n",
        "        self.x = x\n",
        "        #self.num_class = num_class\n",
        "        self.onehot_encode()\n",
        "\n",
        "    def onehot_encode(self):\n",
        "        onehot = np.zeros((self.x.shape[0], 10))\n",
        "\n",
        "        for i, j in zip(range(len(self.x)), self.y):\n",
        "            onehot[i, j] = 1\n",
        "        return onehot.T\n",
        "\n",
        "class Normalize:\n",
        "\n",
        "    def __init__(self, unprocessed_X):\n",
        "        self.unprocessed_X = unprocessed_X\n",
        "        self.Norm_reshape()\n",
        "\n",
        "    def Norm_reshape(self):\n",
        "        X_norm = np.reshape(self.unprocessed_X,(self.unprocessed_X.shape[0],784)).T/255\n",
        "        X_norm= np.array(X_norm)\n",
        "\n",
        "        return X_norm\n",
        "\n",
        "\n",
        "class TrainValSplit:\n",
        "  def __init__(self, X_train, y_train, Val_split_ratio = 0.9):\n",
        "    self.X = X_train\n",
        "    self.y = y_train\n",
        "    self.vsr = Val_split_ratio\n",
        "\n",
        "  def Apply_split(self):\n",
        "    np.random.seed(0)\n",
        "\n",
        "    i = np.random.permutation(len(self.X))\n",
        "    split = int(self.X.shape[0] * (1 - self.vsr))\n",
        "\n",
        "    train = i[:split]\n",
        "    val = i[split:]\n",
        "\n",
        "    train_X = self.X[train]\n",
        "    val_X = self.X[val]\n",
        "\n",
        "    train_y = self.y[train]\n",
        "    val_y = self.y[val]\n",
        "\n",
        "    return train_X , train_y, val_X, val_y"
      ]
    },
    {
      "cell_type": "markdown",
      "source": [
        "**Activation functions and their gradient calculation code**"
      ],
      "metadata": {
        "id": "4img7vaRBMXi"
      }
    },
    {
      "cell_type": "code",
      "source": [
        "import numpy as np\n",
        "\n",
        "class CalActivation:\n",
        "    def __init__(self, m):\n",
        "        self.m = m\n",
        "\n",
        "# Sigmoid (for hidden layers)\n",
        "class sigmoid(CalActivation):\n",
        "    def use_sigmoid(self):\n",
        "        return 1 / (1 + np.exp(-np.clip(self.m, -250, 250)))  # Clip inputs\n",
        "\n",
        "    def sigmoid_d(self):\n",
        "        sig = self.use_sigmoid()\n",
        "        return sig * (1 - sig)\n",
        "\n",
        "\n",
        "class relu(CalActivation):\n",
        "    def use_relu(self):\n",
        "        return np.maximum(0, self.m)\n",
        "\n",
        "    def relu_d(self):\n",
        "        return np.where(self.m > 0, 1, 0)\n",
        "\n",
        "class Leakyrelu(CalActivation):\n",
        "    def use_relu(self):\n",
        "        return np.maximum(0, self.m)\n",
        "\n",
        "    def relu_d(self):\n",
        "        return np.where(self.m > 0, 1, 0.01)\n",
        "\n",
        "\n",
        "class softmax(CalActivation):\n",
        "    def use_softmax(self):\n",
        "        shifted = self.m - np.max(self.m, axis=0, keepdims=True)\n",
        "        exps = np.exp(shifted)\n",
        "        return exps / np.sum(exps, axis=0, keepdims=True)\n",
        "\n",
        "\n",
        "    def softmax_d(self):\n",
        "        z=self.m - np.max(self.m,axis=0)\n",
        "        soft=np.exp(z)/np.sum(np.exp(z),axis=0)\n",
        "        return soft*(1-soft)\n",
        "\n",
        "class tanh(CalActivation):\n",
        "    def use_tanh(self):\n",
        "        return np.tanh(self.m)  # Built-in is stable\n",
        "\n",
        "    def tanh_d(self):\n",
        "        return 1 - (self.use_tanh() ** 2)\n",
        "\n",
        "\n",
        "\n",
        "# This function call different activation function\n",
        "class apply_activation(CalActivation):\n",
        "\n",
        "    def __init__(self, activation_function, m):\n",
        "        super().__init__(m)\n",
        "        self.activation_function = activation_function.lower()\n",
        "\n",
        "    def do_activation(self):\n",
        "        if self.activation_function == 'sigmoid':\n",
        "            return sigmoid(self.m).use_sigmoid()\n",
        "        elif self.activation_function == 'relu':\n",
        "            return relu(self.m).use_relu()\n",
        "        elif self.activation_function == 'lrelu':\n",
        "            return Leakyrelu(self.m).use_relu()\n",
        "        elif self.activation_function == 'tanh':\n",
        "            return tanh(self.m).use_tanh()\n",
        "        elif self.activation_function == 'softmax':\n",
        "            return softmax(self.m).use_softmax()\n",
        "\n",
        "    def do_activation_derivative(self):\n",
        "        if self.activation_function == 'sigmoid':\n",
        "            return sigmoid(self.m).sigmoid_d()\n",
        "        elif self.activation_function == 'relu':\n",
        "            return relu(self.m).relu_d()\n",
        "        elif self.activation_function == 'lrelu':\n",
        "            return Leakyrelu(self.m).relu_d()\n",
        "        elif self.activation_function == 'tanh':\n",
        "            return tanh(self.m).tanh_d()\n",
        "        elif self.activation_function == 'softmax':\n",
        "            return softmax(self.m).softmax_d()\n",
        "        else:\n",
        "           raise ValueError(\"Unknown activation function\")\n"
      ],
      "metadata": {
        "id": "_jniGnSv6P9J"
      },
      "execution_count": null,
      "outputs": []
    },
    {
      "cell_type": "markdown",
      "source": [
        "**Initilization of weights and biases code using Xavier / He / Random**"
      ],
      "metadata": {
        "id": "aKmIysBmBWES"
      }
    },
    {
      "cell_type": "code",
      "source": [
        "import numpy as np\n",
        "\n",
        "class Initilize:\n",
        "    def __init__(self, layer_dimension, activation_function, y_train, method = \"Xavier_U\"):\n",
        "        self.n = layer_dimension\n",
        "        self.activation_fn = activation_function\n",
        "        self.y = y_train\n",
        "        self.Init_method = method\n",
        "\n",
        "class InitializeWeights(Initilize):\n",
        "    def __init__(self, ip_size, op_size, activation_function, batch_size, method):\n",
        "        super().__init__([ip_size, op_size], activation_function, batch_size, method)  # Properly inherit Initilize attributes\n",
        "        self.i_size = ip_size\n",
        "        self.o_size = op_size\n",
        "        self.Init_weights()\n",
        "\n",
        "\n",
        "    def Init_weights(self):\n",
        "        np.random.seed(0)\n",
        "\n",
        "        if self.Init_method == \"Xavier_N\":\n",
        "          np.random.seed(0)\n",
        "          a = np.sqrt(1 / self.i_size)\n",
        "          self.weight = np.random.randn(self.o_size,self.i_size)*a\n",
        "\n",
        "        elif self.Init_method == \"Xavier_U\":\n",
        "          np.random.seed(0)\n",
        "          a = np.sqrt(6 / (self.o_size + self.i_size))\n",
        "          self.weight = np.random.uniform((-a), a,( self.o_size,self.i_size))\n",
        "\n",
        "        elif self.Init_method == \"He_N\":\n",
        "          np.random.seed(0)\n",
        "          a = np.sqrt(2 / self.i_size)\n",
        "          self.weight = np.random.randn(self.o_size,self.i_size)*a\n",
        "\n",
        "        elif self.Init_method == \"He_U\":\n",
        "          np.random.seed(0)\n",
        "          a = np.sqrt(6 / self.i_size)\n",
        "          self.weight = np.random.uniform(-a, a, (self.o_size,self.i_size))\n",
        "\n",
        "        elif self.Init_method == \"Random\":\n",
        "          np.random.seed(0)\n",
        "          self.weight = np.random.randn(self.o_size,self.i_size)*0.01\n",
        "        else:\n",
        "          raise ValueError(f\"Unknown initialization method: {self.Init_method}\")\n",
        "\n",
        "\n",
        "        # Initialize biases and activations\n",
        "        self.bias = np.zeros((self.o_size, 1))\n",
        "        self.a = np.zeros((self.o_size, len(self.y[1])))\n",
        "        self.h = np.zeros((self.o_size, len(self.y[1])))\n",
        "\n",
        "        # Activation function and its derivative\n",
        "        self.g = apply_activation(self.activation_fn, self.a).do_activation()\n",
        "        self.d_g = apply_activation(self.activation_fn, self.a).do_activation_derivative()\n",
        "\n",
        "        # Gradients\n",
        "        self.d_a = np.zeros_like(self.a)\n",
        "        self.d_h = np.zeros_like(self.h)\n",
        "        self.d_w = np.zeros_like(self.weight)\n",
        "        self.d_b = np.zeros_like(self.bias)\n",
        "        self.Weight_updates = np.zeros_like(self.weight)\n",
        "        self.bias_updates = np.zeros_like(self.bias)\n",
        "\n",
        "\n",
        "\n",
        "class Weight_bias(Initilize):\n",
        "    def __init__(self, layer_dimension, activation_function, y_train, method=\"Xavier_U\"):\n",
        "        super().__init__(layer_dimension, activation_function, y_train, method)\n",
        "        self.network = []\n",
        "\n",
        "\n",
        "    def Init_network(self):\n",
        "\n",
        "        for i in range(1, len(self.n)):\n",
        "          self.network.append(InitializeWeights( self.n[i-1], self.n[i], self.activation_fn[i-1], self.y, self.Init_method))\n",
        "\n",
        "        return self.network\n"
      ],
      "metadata": {
        "id": "PATIBefL65DZ"
      },
      "execution_count": null,
      "outputs": []
    },
    {
      "cell_type": "markdown",
      "source": [
        "**Feedforward Code for Prediction**"
      ],
      "metadata": {
        "id": "nDDchVi6BiFr"
      }
    },
    {
      "cell_type": "code",
      "source": [
        "import numpy as np\n",
        "\n",
        "class Pre_Feedforward:\n",
        "    def __init__(self, inputs, w, b, activation_fn):\n",
        "        self.ip = inputs\n",
        "        self.w = w\n",
        "        self.b = b\n",
        "        self.activation_fn = activation_fn\n",
        "        self.gamma = np.ones((w.shape[0], 1))  # Scale parameter for Batch Norm\n",
        "        self.beta = np.zeros((w.shape[0], 1))  # Shift parameter for Batch Norm\n",
        "        self.a, self.h = self.Preactivation_cal()\n",
        "\n",
        "    def Preactivation_cal(self):\n",
        "        A = np.dot(self.w, self.ip) + self.b\n",
        "\n",
        "        # Activation Normalization (Per Sample Normalization)\n",
        "        A_norm = (A - np.mean(A, axis=1, keepdims=True)) / (np.std(A, axis=1, keepdims=True) + 1e-8)\n",
        "\n",
        "        # Batch Normalization (Learnable Parameters: gamma & beta)\n",
        "        A_batch_norm = self.gamma * A_norm + self.beta  # Scale & Shift\n",
        "\n",
        "        H = apply_activation(self.activation_fn, A_batch_norm).do_activation()\n",
        "        return A_batch_norm, H  # Returning Batch Normalized Pre-Activation\n",
        "\n",
        "\n",
        "class Feedforward:\n",
        "    def __init__(self, X_train, activation_fn, method, network):\n",
        "        self.input = X_train\n",
        "        self.activation_fn = activation_fn\n",
        "        self.method = method\n",
        "        self.network = network\n",
        "\n",
        "    def Forward_prop(self):\n",
        "        L = len(self.network)\n",
        "\n",
        "        for i in range(L):\n",
        "            pre_layer = Pre_Feedforward(self.input, self.network[i].weight, self.network[i].bias, self.activation_fn[i])\n",
        "            self.network[i].a = pre_layer.a\n",
        "            self.network[i].h = pre_layer.h\n",
        "            self.input = self.network[i].h  # Propagate activated values\n",
        "\n",
        "        return self.network\n"
      ],
      "metadata": {
        "id": "FftS8rFt9VWK"
      },
      "execution_count": null,
      "outputs": []
    },
    {
      "cell_type": "code",
      "source": [
        "from keras.datasets import fashion_mnist\n",
        "(X_train, y_train), (X_test, y_test) = fashion_mnist.load_data()\n",
        "X_new= Normalize(X_train).Norm_reshape()\n",
        "y_new =OneHotEncoder(X_train,y_train).onehot_encode()"
      ],
      "metadata": {
        "id": "p4VcmSf38u1V"
      },
      "execution_count": null,
      "outputs": []
    },
    {
      "cell_type": "markdown",
      "source": [
        " **Here is the answer of question 2 where we have to predict the output of 10 class in probability disturbution form**"
      ],
      "metadata": {
        "id": "6FSYr70tAbvK"
      }
    },
    {
      "cell_type": "code",
      "source": [
        "'''\n",
        "Initialise the network with Xavier Uniform initilised weight and biases\n",
        "'''\n",
        "\n",
        "Initial_network = Weight_bias(layer_dimension = [784, 128, 64, 10],\n",
        "                              activation_function = ['sigmoid','relu','softmax'],\n",
        "                              y_train = y_new,\n",
        "                              method = \"Xavier_U\").Init_network()\n",
        "\n",
        "'''\n",
        "Predicting the output of 10 class with Xavier Uniform initilised weight and biases\n",
        "'''\n",
        "\n",
        "Predict = Feedforward(X_train = X_new,\n",
        "                     activation_fn= ['sigmoid','relu','softmax'],\n",
        "                     method = \"Xavier_U\",\n",
        "                     network= Initial_network).Forward_prop()\n",
        "\n",
        "\n",
        "print(\" Here is the prediction of output of 10 class in probability disturbution form \\n with Xavier Uniform initilised weight and biases: \\n\\n\", Predict[2].h)"
      ],
      "metadata": {
        "colab": {
          "base_uri": "https://localhost:8080/"
        },
        "id": "6fEvrBBF8wnE",
        "outputId": "6f1bc4af-c8e1-4fc1-c8f1-e5758192133b"
      },
      "execution_count": null,
      "outputs": [
        {
          "output_type": "stream",
          "name": "stdout",
          "text": [
            " Here is the prediction of output of 10 class in probability disturbution form \n",
            " with Xavier Uniform initilised weight and biases: \n",
            "\n",
            " [[0.15131579 0.02254063 0.07011927 ... 0.02134032 0.1547177  0.27680912]\n",
            " [0.04236374 0.0366043  0.10287327 ... 0.09750509 0.02806686 0.03796533]\n",
            " [0.14732446 0.30968874 0.10342544 ... 0.27471801 0.07746666 0.01621352]\n",
            " ...\n",
            " [0.22240824 0.19012178 0.1045384  ... 0.014127   0.03969555 0.04926175]\n",
            " [0.01593975 0.23625835 0.06535765 ... 0.15377935 0.04608808 0.07835519]\n",
            " [0.2350658  0.03385474 0.10834192 ... 0.00426795 0.11168121 0.08030805]]\n"
          ]
        }
      ]
    },
    {
      "cell_type": "markdown",
      "source": [
        "**--------------------------------------------------------------------------------------------------------------------------------------------------------------**"
      ],
      "metadata": {
        "id": "IeM0PGqhINGd"
      }
    },
    {
      "cell_type": "markdown",
      "source": [
        "\n",
        "# ✅ Question 3 :\n",
        "##Implement the backpropagation algorithm with support for the following optimisation functions\n",
        "\n",
        "##sgd\n",
        "##momentum based gradient descent\n",
        "##nesterov accelerated gradient descent\n",
        "##rmsprop\n",
        "##adam\n",
        "##nadam (Not required as aked)\n",
        "##We will check the code for implementation and ease of use (e.g., how easy it is to add a new optimisation algorithm such as Eve). Note that the code should be flexible enough to work with different batch sizes."
      ],
      "metadata": {
        "id": "sjL6Lhp3B5e8"
      }
    },
    {
      "cell_type": "markdown",
      "source": [
        "**--------------------------------------------------------------------------------------------------------------------------------------------------------------**"
      ],
      "metadata": {
        "id": "ax8lGGyzIOal"
      }
    },
    {
      "cell_type": "markdown",
      "source": [
        "**L2 / L1 Norm Regularization Code and their Gradient Calling functions :**"
      ],
      "metadata": {
        "id": "FEACWx0UDJWT"
      }
    },
    {
      "cell_type": "code",
      "source": [
        "import numpy as np\n",
        "\n",
        "class Regularisation:\n",
        "    def __init__(self, network, weight=0):\n",
        "        self.network = network\n",
        "        self.weight = weight\n",
        "\n",
        "class L2_regularisation(Regularisation):\n",
        "    def Apply_L2(self):\n",
        "        \"\"\"Returns L2 regularization loss for the given network.\"\"\"\n",
        "        L = len(self.network)\n",
        "        res = 0\n",
        "        for j in range(L):\n",
        "            if np.isnan(self.network[j].weight).any():\n",
        "                print(f\"Warning: NaN detected in network weights at layer {j}\")\n",
        "                return 0  # Prevents NaN propagation\n",
        "            res += 0.5 * np.sum(self.network[j].weight ** 2)\n",
        "        return res\n",
        "\n",
        "    def Apply_L2_grad(self, weight):\n",
        "        \"\"\"Returns L2 regularization gradient for the given weight matrix/tensor.\"\"\"\n",
        "        return 2 * weight\n",
        "\n",
        "class L1_regularisation(Regularisation):\n",
        "    def Apply_L1(self):\n",
        "        \"\"\"Returns L1 regularization loss for the given network.\"\"\"\n",
        "        L = len(self.network)\n",
        "        res = 0\n",
        "        for j in range(L):\n",
        "            if np.isnan(self.network[j].weight).any():\n",
        "                print(f\"Warning: NaN detected in network weights at layer {j}\")\n",
        "                return 0  # Prevents NaN propagation\n",
        "            res += (1 / 2) * np.sum(np.abs(self.network[j].weight))\n",
        "        return res\n",
        "\n",
        "    def Apply_L1_grad(self, weight):\n",
        "        \"\"\"Returns L1 regularization gradient for the given weight matrix/tensor.\"\"\"\n",
        "        return np.sign(weight)\n",
        "\n",
        "class ApplyReg(Regularisation):\n",
        "    def __init__(self, reg_function, network, weight=0):\n",
        "        self.reg_function = reg_function\n",
        "        super().__init__(network, weight)\n",
        "\n",
        "    def do_reg(self):\n",
        "        if self.reg_function == 'L2':\n",
        "            return L2_regularisation(self.network).Apply_L2()\n",
        "        if self.reg_function == 'L1':\n",
        "            return L1_regularisation(self.network).Apply_L1()\n",
        "        if self.reg_function == 'L2_d':\n",
        "            return L2_regularisation(self.network).Apply_L2_grad(self.weight)  # Explicitly pass weight\n",
        "        if self.reg_function == 'L1_d':\n",
        "            return L1_regularisation(self.network).Apply_L1_grad(self.weight)  # Explicitly pass weight\n"
      ],
      "metadata": {
        "id": "kj4ZlQjV9Jem"
      },
      "execution_count": null,
      "outputs": []
    },
    {
      "cell_type": "markdown",
      "source": [
        "**Overall Loss and Accuracy Calling functions code :**"
      ],
      "metadata": {
        "id": "ASwu48SQD_Cc"
      }
    },
    {
      "cell_type": "code",
      "source": [
        "class CalculateAllLoss:\n",
        "  def __init__(self, X_train, y_predicted,network, y_train, primary_loss, weight_decay=0, regularisation_fn=None):\n",
        "    self.y_predicted = y_predicted\n",
        "    self.y_true = y_train\n",
        "    self.network = network\n",
        "    self.X_train = X_train\n",
        "    self.loss_value = primary_loss\n",
        "    self.weight_decay = weight_decay\n",
        "    self.regularisation_fn= regularisation_fn\n",
        "    self.calc_accuracy_loss()\n",
        "\n",
        "\n",
        "  def overall_loss(self):\n",
        "    \"\"\"\n",
        "    Calculates the total loss of the network.\n",
        "\n",
        "    This includes:\n",
        "    - The primary loss (e.g., Cross-Entropy Loss)\n",
        "    - Optional regularization (like L2 regularization)\n",
        "\n",
        "    Parameters:\n",
        "    - network: The neural network model.\n",
        "    - Y_pred: The predicted output from the network.\n",
        "    - Y_true: The actual labels (ground truth).\n",
        "    - loss_fn: The loss function to be used (e.g., CrossEntropy_loss).\n",
        "    - weight_decay: A coefficient for regularization (default is 0, meaning no regularization).\n",
        "    - regularisation_fn: A function for computing the regularization term (optional).\n",
        "\n",
        "    Returns:\n",
        "    - Total loss value.\n",
        "    \"\"\"\n",
        "    # Get network predictions self.y_prediction from model\n",
        "    total_loss = self.loss_value  # Compute primary loss\n",
        "\n",
        "    if self.weight_decay > 0 and self.regularisation_fn:\n",
        "        regularized_val = ApplyReg(self.regularisation_fn, self.network).do_reg()\n",
        "        total_loss += self.weight_decay * regularized_val # Add regularization term if applicable  # Compute total loss\n",
        "    return total_loss\n",
        "\n",
        "\n",
        "\n",
        "\n",
        "  def calc_accuracy_loss(self):\n",
        "    \"\"\"\n",
        "    Computes the accuracy and loss for a given neural network.\n",
        "\n",
        "    Parameters:\n",
        "    - network: The neural network model.\n",
        "    - X: Input data (features for prediction).\n",
        "    - Y: Actual labels (ground truth values).\n",
        "    - loss_fn: The loss function to be used.\n",
        "    - weight_decay: Regularization strength (default is 0, meaning no regularization).\n",
        "    - regularisation_fn: A function to compute the regularization term (optional).\n",
        "\n",
        "    Returns:\n",
        "    - accuracy: The percentage of correctly classified examples.\n",
        "    - loss: The computed total loss.\n",
        "    \"\"\"\n",
        "\n",
        "    total_loss = self.loss_value  # Compute primary loss\n",
        "\n",
        "    if self.weight_decay > 0 and self.regularisation_fn:\n",
        "        regularized_val = ApplyReg(self.regularisation_fn, self.network).do_reg()\n",
        "        total_loss += self.weight_decay * regularized_val\n",
        "\n",
        "    # Ensure dimensions match between input and labels\n",
        "    assert self.X_train.shape[1] == self.y_true.shape[1], \"Mismatch in batch size between inputs and labels\"\n",
        "\n",
        "    # Compute accuracy by comparing predicted vs actual labels\n",
        "    batch_size = self.X_train.shape[1]  # Number of examples\n",
        "    correct_predictions = np.sum(np.argmax(self.y_predicted, axis=0) == np.argmax(self.y_true, axis=0))\n",
        "\n",
        "    accuracy = correct_predictions / batch_size  # Compute accuracy as a fraction\n",
        "\n",
        "    return accuracy , total_loss\n",
        "\n"
      ],
      "metadata": {
        "id": "lc5p7TWsCycT"
      },
      "execution_count": null,
      "outputs": []
    },
    {
      "cell_type": "markdown",
      "source": [
        "**All Loss functions and their Gradient Calling functions code :**"
      ],
      "metadata": {
        "id": "fvCL3kjNEO6L"
      }
    },
    {
      "cell_type": "code",
      "source": [
        "import numpy as np\n",
        "\n",
        "class CalLoss:\n",
        "    def __init__(self, y, y_pred):\n",
        "        self.y = y\n",
        "        self.y_predicted = y_pred\n",
        "        if y.shape != y_pred.shape:\n",
        "            raise ValueError(f\"Shape mismatch: y shape is {self.y.shape}, y_predicted shape is {self.y_predicted.shape}\")\n",
        "\n",
        "class CrossEntropy(CalLoss):\n",
        "    def give_celoss(self):\n",
        "        epsilon = 1e-8  # Small value to prevent log(0)\n",
        "        return -np.mean(self.y * np.log(self.y_predicted + epsilon))\n",
        "\n",
        "    def Give_cegrad(self):\n",
        "        epsilon = 1e-8  # Prevent division by zero\n",
        "        grad = -self.y / (self.y_predicted + epsilon)\n",
        "        return grad\n",
        "\n",
        "class SquaredError(CalLoss):\n",
        "    def give_seloss(self):\n",
        "        return np.mean((self.y - self.y_predicted) ** 2)\n",
        "\n",
        "    def Give_segrad(self):\n",
        "        grad = -2 * (self.y - self.y_predicted)\n",
        "        return np.clip(grad, -1, 1)  # Clip to prevent exploding gradients\n",
        "\n",
        "class callloss(CalLoss):\n",
        "    def __init__(self, loss_function, y, y_pred):\n",
        "        self.loss_function = loss_function.lower()\n",
        "        super().__init__(y, y_pred)\n",
        "\n",
        "    def give_loss(self):\n",
        "        if self.loss_function == 'ce':\n",
        "            return CrossEntropy(self.y, self.y_predicted).give_celoss()\n",
        "        elif self.loss_function == 'se':\n",
        "            return SquaredError(self.y, self.y_predicted).give_seloss()\n",
        "        else:\n",
        "            raise ValueError(f\"Unknown loss function: {self.loss_function}\")\n",
        "\n",
        "    def give_gradloss(self):\n",
        "        if self.loss_function == 'ce':\n",
        "            return CrossEntropy(self.y, self.y_predicted).Give_cegrad()\n",
        "        elif self.loss_function == 'se':\n",
        "            return SquaredError(self.y, self.y_predicted).Give_segrad()\n",
        "        else:\n",
        "            raise ValueError(f\"Unknown loss function: {self.loss_function}\")\n"
      ],
      "metadata": {
        "id": "qPTuWBjAC2Ij"
      },
      "execution_count": null,
      "outputs": []
    },
    {
      "cell_type": "markdown",
      "source": [
        "####Below we have the answers of question 3 : Proper Backprop code and along with that we ahve all 5 optimiser codes"
      ],
      "metadata": {
        "id": "Bb3D9CW3Fb10"
      }
    },
    {
      "cell_type": "markdown",
      "source": [
        "**Backpropagation codes which returns the network :**"
      ],
      "metadata": {
        "id": "eGducKvQEYyk"
      }
    },
    {
      "cell_type": "code",
      "source": [
        "from tqdm import tqdm\n",
        "import math\n",
        "\n",
        "class Backpropagation:\n",
        "\n",
        "    def __init__(self, loss_function, X_train, y_train, y_pred, network, weight_decay, batch, batch_size, activation_fn):\n",
        "        self.loss_function = loss_function\n",
        "        self.X_train = X_train\n",
        "        self.y_train = y_train\n",
        "        self.y_predicted = y_pred\n",
        "        self.network = network\n",
        "        self.weight_decay = weight_decay\n",
        "        self.batch = batch\n",
        "        self.batch_size = batch_size\n",
        "        self.activation_fn = activation_fn\n",
        "\n",
        "\n",
        "    def backward_propagation(self):\n",
        "      L = len(self.network)\n",
        "\n",
        "      assert(self.y_train.shape[1] == self.y_predicted.shape[1])\n",
        "\n",
        "\n",
        "      self.network[-1].d_a = callloss(self.loss_function,self.y_train, self.y_predicted).give_gradloss()\n",
        "      # print(\"network -[-1].d_a : \" , self.network[-1].d_a.shape)\n",
        "      A_k = apply_activation(self.activation_fn[-1], self.network[-1].h).do_activation_derivative()\n",
        "      # print(\"shape A_ k : \" , A_k.shape)\n",
        "      self.network[-1].d_h = self.network[-1].d_a * A_k\n",
        "      # print(\"network -[-1].d_h : \" , self.network[-1].d_a.shape)\n",
        "\n",
        "      self.network[-1].d_w = self.network[-1].d_h @ self.network[-2].a.T  + self.weight_decay * self.network[-1].weight\n",
        "      # print(\"network -[-1].d_w : \" , self.network[-1].d_w.shape)\n",
        "      d_b = -np.sum(self.network[-1].d_h, axis = 1)\n",
        "      self.network[-1].d_b = d_b.reshape(-1 , 1)\n",
        "      # print(\"network -[-1].d_b : \" , self.network[-1].d_b.shape)\n",
        "\n",
        "\n",
        "\n",
        "      for k in range(L-2,0,-1):\n",
        "          # print(f\"No of layers rotation {k}\")\n",
        "\n",
        "          self.network[k].d_h = self.network[k + 1].weight.T @ self.network[k + 1].d_a\n",
        "          # print(f\"shape self.network-{k}.d_h : \" , self.network[k].d_h.shape)\n",
        "          act_derv =  apply_activation(self.activation_fn[k], self.network[k].a)\n",
        "          self.network[k].d_a = self.network[k].d_h * act_derv.do_activation_derivative()\n",
        "          # print(f\"shape self.network-{k}.d_a : \" , self.network[k].d_a.shape)\n",
        "\n",
        "          self.network[k].d_w = self.network[k].d_a @ self.network[k-1].h.T  + self.weight_decay * self.network[k].weight\n",
        "          # print(f\"shape self.network-{k}.d_w : \" , self.network[k].d_w.shape)\n",
        "          derv_bias = -np.sum(self.network[k].d_a, axis=1)\n",
        "          self.network[k].d_b = derv_bias.reshape(-1 , 1)\n",
        "          # print(f\"shape self.network-{k}.d_b : \" , self.network[k].d_b.shape)\n",
        "\n",
        "      # print(f\"shape self.network-{0}.d_a : \" , self.network[0].d_a.shape)\n",
        "      d_a = self.network[0].d_a[:, self.batch*self.batch_size : (self.batch+1)*self.batch_size]\n",
        "      # print(f\"shape self.network-{0}.d_a : \" , d_a.shape)\n",
        "      self.network[0].d_w = np.dot(d_a , self.X_train.T) + self.weight_decay * self.network[0].weight\n",
        "      # print(\"network -[0].d_w : \" , self.network[0].d_w.shape)\n",
        "      self.network[0].d_b = np.sum(self.network[0].d_a, axis=1, keepdims = True)\n",
        "\n",
        "      return self.network\n"
      ],
      "metadata": {
        "id": "SAoaQhHmC4QT"
      },
      "execution_count": null,
      "outputs": []
    },
    {
      "cell_type": "markdown",
      "source": [
        "**All 5 Optimisers ( SGD / Momentum / NAG / RMSProp / ADAM ) Calling functions :**"
      ],
      "metadata": {
        "id": "U0RoKfJ5Eyp8"
      }
    },
    {
      "cell_type": "code",
      "source": [
        "from tqdm import tqdm\n",
        "import math\n",
        "import copy\n",
        "\n",
        "\n",
        "class Optimizer:\n",
        "  def __init__(self, loss_function, X_train, y_train, activation_fn, layers_dimensions ,method, batch_size, epochs,validX_train = None, validy_train = None,weight_decay = 0, eta = 0.01, beta = 0.9, beta2 = 0.999, regularization_fn = \"L2\",grad_reglr_fn = \"L2_d\"):\n",
        "      self.loss_function = loss_function\n",
        "      self.X_train = X_train\n",
        "      self.y_train = y_train\n",
        "      self.validX_train = validX_train\n",
        "      self.validy_train = validy_train\n",
        "      self.activation_fn = activation_fn\n",
        "      self.method = method\n",
        "      self.n = layers_dimensions\n",
        "      self.batch_size = batch_size\n",
        "      self.epochs = epochs\n",
        "      self.weight_decay = weight_decay\n",
        "      self.eta = eta\n",
        "      self.epsilon =1e-10\n",
        "      self.beta = beta\n",
        "      self.beta2 = beta2\n",
        "      self.regularization_fn = regularization_fn\n",
        "      self.grad_reglr_fn = grad_reglr_fn\n",
        "      self.batches_number = self.X_train.shape[1]//self.batch_size\n",
        "      z = Weight_bias(self.n, self.activation_fn, self.y_train, self.method)\n",
        "      self.init_network = z.Init_network()\n",
        "      self.min_eta = 1e-4\n",
        "      # wandb.init(project= \"DA6401_Assignment_1\" , name = \"RMSProp with validation data of 1/3rd of 60k rows\")\n",
        "\n",
        "\n",
        "class SGD(Optimizer):\n",
        "\n",
        "  def Gradient_descent(self):\n",
        "\n",
        "\n",
        "    assert(self.X_train.shape[1] == self.y_train.shape[1])\n",
        "    if self.validy_train is not None:\n",
        "      assert(self.validX_train.shape[1] == self.validy_train.shape[1])\n",
        "    L = len(self.n) - 1\n",
        "    # Initialize variables neesed to keep track of loss\n",
        "    self.eta_history = []\n",
        "    self.loss_history = []\n",
        "    self.training_history = []\n",
        "    self.valid_loss_history = []\n",
        "    self.validation_history = []\n",
        "    overall_loss = 0\n",
        "    accuracy = 0\n",
        "    val_accuracy = 0\n",
        "    val_overall_loss = 0\n",
        "    self.batch = 0\n",
        "    accuracy = 0\n",
        "    val_accuracy = 0\n",
        "    val_overall_loss = 0\n",
        "    train_loss = 0\n",
        "    val_loss = 0\n",
        "\n",
        "    for epoch in tqdm(range(self.epochs)):\n",
        "\n",
        "      for batch in range(self.batches_number):\n",
        "\n",
        "        X_batch = self.X_train[:, batch*self.batch_size:(batch+1)*self.batch_size]\n",
        "        self.X_batch = X_batch\n",
        "        # print(\"X_batch shape : \" , self.X_batch.shape)\n",
        "\n",
        "        y_true_batch = self.y_train[:, batch*self.batch_size:(batch+1)*self.batch_size]\n",
        "        # y_pred_batch = self.y_predicted[:, batch*self.batch_size:(batch+1)*self.batch_size]\n",
        "        self.y_true_batch = y_true_batch\n",
        "        fw_network = Feedforward(self.X_batch,self.activation_fn,self.method, self.init_network).Forward_prop()\n",
        "        self.fw_network = fw_network\n",
        "        self.y_predicted = self.fw_network[L-1].h\n",
        "        self.y_pred_batch = self.y_predicted\n",
        "        # self.y_pred_batch = self.y_predicted[:, batch*self.batch_size:(batch+1)*self.batch_size]\n",
        "        # print(\"y_pred_batch shape : \" , self.y_pred_batch.shape)\n",
        "        # print(\"y_true_batch shape : \" , self.y_true_batch.shape)\n",
        "        assert(self.y_true_batch.shape[1] == self.y_pred_batch.shape[1])\n",
        "\n",
        "        self.loss = callloss(self.loss_function, self.y_true_batch, self.y_pred_batch).give_loss()\n",
        "        overall_loss = CalculateAllLoss(self.X_batch, self.y_pred_batch, self.fw_network, self.y_true_batch, self.loss, self.weight_decay, self.regularization_fn).overall_loss()\n",
        "        self.loss_history.append(overall_loss)\n",
        "        bp_network = Backpropagation(self.loss_function, self.X_batch, self.y_true_batch, self.y_pred_batch, self.fw_network, self.weight_decay, self.batch, self.batch_size, self.activation_fn ).backward_propagation()\n",
        "        self.bp_network = bp_network\n",
        "\n",
        "        if len(self.loss_history) > 5:  # Ensure we have enough data points\n",
        "          recent_losses = self.loss_history[-5:]\n",
        "          loss_std = np.std(recent_losses)  # Compute standard deviation of recent losses\n",
        "\n",
        "          if self.loss_history[-1] > self.loss_history[-2]:\n",
        "              self.eta = max(self.eta * (0.9 if loss_std < 0.01 else 0.8), self.min_eta)\n",
        "\n",
        "        self.eta_history.append(self.eta)\n",
        "\n",
        "        for j in range(L):\n",
        "          self.fw_network[j].weight -= self.eta * self.bp_network[j].d_w\n",
        "          self.fw_network[j].bias -= self.eta * self.bp_network[j].d_b\n",
        "\n",
        "        acc, loss = CalculateAllLoss(self.X_batch, self.y_pred_batch, self.init_network, self.y_true_batch, self.loss, self.weight_decay, self.regularization_fn).calc_accuracy_loss()\n",
        "        accuracy = round(acc , 4)\n",
        "        train_loss = round(loss , 4)\n",
        "        self.training_history.append(CalculateAllLoss(self.X_batch, self.y_pred_batch, self.init_network, self.y_true_batch, self.loss, self.weight_decay, self.regularization_fn).calc_accuracy_loss())\n",
        "\n",
        "\n",
        "        if self.validX_train is not None:\n",
        "          network = Feedforward(self.validX_train,self.activation_fn,self.method, self.init_network).Forward_prop()\n",
        "          self.network = network\n",
        "          self.valy_predicted = self.network[L-1].h\n",
        "          val_acc, v_loss = CalculateAllLoss(self.validX_train, self.valy_predicted, self.init_network, self.validy_train, self.loss, self.weight_decay, self.regularization_fn).calc_accuracy_loss()\n",
        "          val_accuracy = round(val_acc , 4)\n",
        "          val_loss = round(v_loss , 4)\n",
        "          val_overall_loss = CalculateAllLoss(self.validX_train, self.valy_predicted, self.init_network, self.validy_train, self.loss, self.weight_decay, self.regularization_fn).overall_loss()\n",
        "          self.validation_history.append(CalculateAllLoss(self.validX_train, self.valy_predicted, self.init_network, self.validy_train, self.loss, self.weight_decay, self.regularization_fn).calc_accuracy_loss())\n",
        "\n",
        "\n",
        "        # wandb.log({'epoch': self.epochs,  # Use current epoch, not total epochs\n",
        "        #             'validation_accuracy': val_accuracy if self.validX_train is not None else 0,\n",
        "        #             'accuracy': accuracy,\n",
        "        #             'validation_loss': val_loss if self.validX_train is not None else 0,\n",
        "        #             'loss': train_loss\n",
        "        #         })\n",
        "      print(f\"   Epochs no: {(epoch+1)}  |  Train acc: {accuracy}  |  val acc: {val_accuracy}  |  Train Loss: {train_loss} |  Val Loss : {val_loss}\")\n",
        "\n",
        "    return self.init_network, train_loss, accuracy, val_accuracy, val_loss\n",
        "\n",
        "\n",
        "\n",
        "class MGD(Optimizer):\n",
        "\n",
        "  def momentum_GD(self):\n",
        "\n",
        "    assert(self.X_train.shape[1] == self.y_train.shape[1])\n",
        "    if self.validy_train is not None:\n",
        "      assert(self.validX_train.shape[1] == self.validy_train.shape[1])\n",
        "    L = len(self.n) - 1\n",
        "    # Initialize variables neesed to keep track of loss\n",
        "    self.eta_history = []\n",
        "    self.loss_history = []\n",
        "    self.training_history = []\n",
        "    self.valid_loss_history = []\n",
        "    self.validation_history = []\n",
        "    overall_loss = 0\n",
        "    self.batch = 0\n",
        "    accuracy = 0\n",
        "    val_accuracy = 0\n",
        "    val_overall_loss = 0\n",
        "    train_loss = 0\n",
        "    val_loss = 0\n",
        "\n",
        "    u_w = [np.zeros_like(self.init_network[k].weight) for k in range(L)]\n",
        "    u_b = [np.zeros_like(self.init_network[k].bias) for k in range(L)]\n",
        "\n",
        "    for epoch in tqdm(range(self.epochs)):\n",
        "\n",
        "      for batch in range(self.batches_number):\n",
        "\n",
        "        X_batch = self.X_train[:, batch*self.batch_size:(batch+1)*self.batch_size]\n",
        "        self.X_batch = X_batch\n",
        "        # print(\"X_batch shape : \" , self.X_batch.shape)\n",
        "\n",
        "        y_true_batch = self.y_train[:, batch*self.batch_size:(batch+1)*self.batch_size]\n",
        "        # y_pred_batch = self.y_predicted[:, batch*self.batch_size:(batch+1)*self.batch_size]\n",
        "        self.y_true_batch = y_true_batch\n",
        "        fw_network = Feedforward(self.X_batch,self.activation_fn,self.method, self.init_network).Forward_prop()\n",
        "        self.fw_network = fw_network\n",
        "        self.y_predicted = self.fw_network[L-1].h\n",
        "        self.y_pred_batch = self.y_predicted\n",
        "        # self.y_pred_batch = self.y_predicted[:, batch*self.batch_size:(batch+1)*self.batch_size]\n",
        "        # print(\"y_pred_batch shape : \" , self.y_pred_batch.shape)\n",
        "        # print(\"y_true_batch shape : \" , self.y_true_batch.shape)\n",
        "        assert(self.y_true_batch.shape[1] == self.y_pred_batch.shape[1])\n",
        "\n",
        "        self.loss = callloss(self.loss_function, self.y_true_batch, self.y_pred_batch).give_loss()\n",
        "        overall_loss = CalculateAllLoss(self.X_batch, self.y_pred_batch, self.fw_network, self.y_true_batch, self.loss, self.weight_decay, self.regularization_fn).overall_loss()\n",
        "        self.loss_history.append(overall_loss)\n",
        "        bp_network = Backpropagation(self.loss_function, self.X_batch, self.y_true_batch, self.y_pred_batch, self.fw_network, self.weight_decay, self.batch, self.batch_size, self.activation_fn ).backward_propagation()\n",
        "        self.bp_network = bp_network\n",
        "\n",
        "        if len(self.loss_history) > 5:  # Ensure we have enough data points\n",
        "          recent_losses = self.loss_history[-5:]\n",
        "          loss_std = np.std(recent_losses)  # Compute standard deviation of recent losses\n",
        "\n",
        "          if self.loss_history[-1] > self.loss_history[-2]:\n",
        "              self.eta = max(self.eta * (0.9 if loss_std < 0.01 else 0.8), self.min_eta)\n",
        "\n",
        "        self.eta_history.append(self.eta)\n",
        "        # self.beta = min(1 - 2 ** (-1 - math.log((self.calls / 250.0) + 1, 2)), self.beta)\n",
        "\n",
        "        for j in range(L):\n",
        "          u_w[j] = u_w[j] * self.beta + self.bp_network[j].d_w * self.eta\n",
        "          u_b[j] = u_b[j] * self.beta + self.bp_network[j].d_b * self.eta\n",
        "\n",
        "          self.fw_network[j].weight -= u_w[j]\n",
        "          self.fw_network[j].bias -= u_b[j]\n",
        "\n",
        "        acc, loss = CalculateAllLoss(self.X_batch, self.y_pred_batch, self.init_network, self.y_true_batch, self.loss, self.weight_decay, self.regularization_fn).calc_accuracy_loss()\n",
        "        accuracy = round(acc , 4)\n",
        "        train_loss = round(loss , 4)\n",
        "        self.training_history.append(CalculateAllLoss(self.X_batch, self.y_pred_batch, self.init_network, self.y_true_batch, self.loss, self.weight_decay, self.regularization_fn).calc_accuracy_loss())\n",
        "\n",
        "\n",
        "        if self.validX_train is not None:\n",
        "          network = Feedforward(self.validX_train,self.activation_fn,self.method, self.init_network).Forward_prop()\n",
        "          self.network = network\n",
        "          self.valy_predicted = self.network[L-1].h\n",
        "          val_acc, v_loss = CalculateAllLoss(self.validX_train, self.valy_predicted, self.init_network, self.validy_train, self.loss, self.weight_decay, self.regularization_fn).calc_accuracy_loss()\n",
        "          val_accuracy = round(val_acc , 4)\n",
        "          val_loss = round(v_loss , 4)\n",
        "          val_overall_loss = CalculateAllLoss(self.validX_train, self.valy_predicted, self.init_network, self.validy_train, self.loss, self.weight_decay, self.regularization_fn).overall_loss()\n",
        "          self.validation_history.append(CalculateAllLoss(self.validX_train, self.valy_predicted, self.init_network, self.validy_train, self.loss, self.weight_decay, self.regularization_fn).calc_accuracy_loss())\n",
        "\n",
        "\n",
        "        # wandb.log({'epoch': self.epochs,  # Use current epoch, not total epochs\n",
        "        #             'validation_accuracy': val_accuracy if self.validX_train is not None else 0,\n",
        "        #             'accuracy': accuracy,\n",
        "        #             'validation_loss': val_loss if self.validX_train is not None else 0,\n",
        "        #             'loss': train_loss\n",
        "        #         })\n",
        "      print(f\"   Epochs no: {(epoch+1)}  |  Train acc: {accuracy}  |  val acc: {val_accuracy}  |  Train Loss: {train_loss} |  Val Loss : {val_loss}\")\n",
        "\n",
        "    return self.init_network, train_loss, accuracy, val_accuracy, val_loss\n",
        "\n",
        "\n",
        "\n",
        "\n",
        "class NAG(Optimizer):\n",
        "\n",
        "  def Nesterov_AGD(self):\n",
        "\n",
        "    assert(self.X_train.shape[1] == self.y_train.shape[1])\n",
        "    if self.validy_train is not None:\n",
        "      assert(self.validX_train.shape[1] == self.validy_train.shape[1])\n",
        "    L = len(self.n) - 1\n",
        "    # Initialize variables neesed to keep track of loss\n",
        "    self.eta_history = []\n",
        "    self.loss_history = []\n",
        "    self.training_history = []\n",
        "    self.valid_loss_history = []\n",
        "    self.validation_history = []\n",
        "    overall_loss = 0\n",
        "    self.batch = 0\n",
        "    accuracy = 0\n",
        "    val_accuracy = 0\n",
        "    val_overall_loss = 0\n",
        "    train_loss = 0\n",
        "    val_loss = 0\n",
        "    u_w = [np.zeros_like(self.init_network[k].weight) for k in range(L)]\n",
        "    u_b = [np.zeros_like(self.init_network[k].bias) for k in range(L)]\n",
        "\n",
        "    lookleap_network = self.init_network[:]\n",
        "\n",
        "    for epoch in tqdm(range(self.epochs)):\n",
        "\n",
        "      for batch in range(self.batches_number):\n",
        "\n",
        "        X_batch = self.X_train[:, batch*self.batch_size:(batch+1)*self.batch_size]\n",
        "        self.X_batch = X_batch\n",
        "        # print(\"X_batch shape : \" , self.X_batch.shape)\n",
        "\n",
        "        y_true_batch = self.y_train[:, batch*self.batch_size:(batch+1)*self.batch_size]\n",
        "        # y_pred_batch = self.y_predicted[:, batch*self.batch_size:(batch+1)*self.batch_size]\n",
        "        self.y_true_batch = y_true_batch\n",
        "        fw_network = Feedforward(self.X_batch,self.activation_fn,self.method, self.init_network).Forward_prop()\n",
        "        self.fw_network = fw_network\n",
        "        self.y_predicted = self.fw_network[L-1].h\n",
        "        self.y_pred_batch = self.y_predicted\n",
        "        # self.y_pred_batch = self.y_predicted[:, batch*self.batch_size:(batch+1)*self.batch_size]\n",
        "        # print(\"y_pred_batch shape : \" , self.y_pred_batch.shape)\n",
        "        # print(\"y_true_batch shape : \" , self.y_true_batch.shape)\n",
        "        assert(self.y_true_batch.shape[1] == self.y_pred_batch.shape[1])\n",
        "\n",
        "        self.loss = callloss(self.loss_function, self.y_true_batch, self.y_pred_batch).give_loss()\n",
        "        overall_loss = CalculateAllLoss(self.X_batch, self.y_pred_batch, self.fw_network, self.y_true_batch, self.loss, self.weight_decay, self.regularization_fn).overall_loss()\n",
        "        self.loss_history.append(overall_loss)\n",
        "        bp_network = Backpropagation(self.loss_function, self.X_batch, self.y_true_batch, self.y_pred_batch, self.fw_network, self.weight_decay, self.batch, self.batch_size, self.activation_fn ).backward_propagation()\n",
        "        self.bp_network = bp_network\n",
        "\n",
        "        if len(self.loss_history) > 5:  # Ensure we have enough data points\n",
        "          recent_losses = self.loss_history[-5:]\n",
        "          loss_std = np.std(recent_losses)  # Compute standard deviation of recent losses\n",
        "\n",
        "          if self.loss_history[-1] > self.loss_history[-2]:\n",
        "              self.eta = max(self.eta * (0.9 if loss_std < 0.01 else 0.8), self.min_eta)\n",
        "\n",
        "        self.eta_history.append(self.eta)\n",
        "\n",
        "        for j in range(L):\n",
        "          u_w[j] = u_w[j] * self.beta + self.bp_network[j].d_w * self.eta\n",
        "          u_b[j] = u_b[j] * self.beta + self.bp_network[j].d_b * self.eta\n",
        "\n",
        "          self.fw_network[j].weight -= u_w[j]\n",
        "          self.fw_network[j].bias -= u_b[j]\n",
        "\n",
        "          lookleap_network[j].weight -= (self.eta * self.bp_network[j].d_w + self.beta * u_w[j])\n",
        "          lookleap_network[j].bias -= (self.eta * self.bp_network[j].d_b + self.beta * u_b[j])\n",
        "\n",
        "        acc, loss = CalculateAllLoss(self.X_batch, self.y_pred_batch, self.init_network, self.y_true_batch, self.loss, self.weight_decay, self.regularization_fn).calc_accuracy_loss()\n",
        "        accuracy = round(acc , 4)\n",
        "        train_loss = round(loss , 4)\n",
        "        self.training_history.append(CalculateAllLoss(self.X_batch, self.y_pred_batch, self.init_network, self.y_true_batch, self.loss, self.weight_decay, self.regularization_fn).calc_accuracy_loss())\n",
        "\n",
        "\n",
        "        if self.validX_train is not None:\n",
        "          network = Feedforward(self.validX_train,self.activation_fn,self.method, self.init_network).Forward_prop()\n",
        "          self.network = network\n",
        "          self.valy_predicted = self.network[L-1].h\n",
        "          val_acc, v_loss = CalculateAllLoss(self.validX_train, self.valy_predicted, self.init_network, self.validy_train, self.loss, self.weight_decay, self.regularization_fn).calc_accuracy_loss()\n",
        "          val_accuracy = round(val_acc , 4)\n",
        "          val_loss = round(v_loss , 4)\n",
        "          val_overall_loss = CalculateAllLoss(self.validX_train, self.valy_predicted, self.init_network, self.validy_train, self.loss, self.weight_decay, self.regularization_fn).overall_loss()\n",
        "          self.validation_history.append(CalculateAllLoss(self.validX_train, self.valy_predicted, self.init_network, self.validy_train, self.loss, self.weight_decay, self.regularization_fn).calc_accuracy_loss())\n",
        "\n",
        "\n",
        "        # wandb.log({'epoch': self.epochs,  # Use current epoch, not total epochs\n",
        "        #             'validation_accuracy': val_accuracy if self.validX_train is not None else 0,\n",
        "        #             'accuracy': accuracy,\n",
        "        #             'validation_loss': val_loss if self.validX_train is not None else 0,\n",
        "        #             'loss': train_loss\n",
        "        #         })\n",
        "      print(f\"   Epochs no: {(epoch+1)}  |  Train acc: {accuracy}  |  val acc: {val_accuracy}  |  Train Loss: {train_loss} |  Val Loss : {val_loss}\")\n",
        "\n",
        "    return self.init_network, train_loss, accuracy, val_accuracy, val_loss\n",
        "\n",
        "\n",
        "\n",
        "class RMSProp(Optimizer):\n",
        "\n",
        "  def rms_GD(self):\n",
        "\n",
        "    assert(self.X_train.shape[1] == self.y_train.shape[1])\n",
        "    if self.validy_train is not None:\n",
        "      assert(self.validX_train.shape[1] == self.validy_train.shape[1])\n",
        "    L = len(self.n) - 1\n",
        "    # Initialize variables neesed to keep track of loss\n",
        "    self.eta_history = []\n",
        "    self.loss_history = []\n",
        "    self.training_history = []\n",
        "    self.valid_loss_history = []\n",
        "    self.validation_history = []\n",
        "    overall_loss = 0\n",
        "    self.batch = 0\n",
        "    accuracy = 0\n",
        "    val_accuracy = 0\n",
        "    val_overall_loss = 0\n",
        "    train_loss = 0\n",
        "    val_loss = 0\n",
        "    u_w = [np.zeros_like(self.init_network[k].weight) for k in range(L)]\n",
        "    u_b = [np.zeros_like(self.init_network[k].bias) for k in range(L)]\n",
        "\n",
        "    for epoch in tqdm(range(self.epochs)):\n",
        "\n",
        "      for batch in range(self.batches_number):\n",
        "\n",
        "        X_batch = self.X_train[:, batch*self.batch_size:(batch+1)*self.batch_size]\n",
        "        self.X_batch = X_batch\n",
        "        # print(\"X_batch shape : \" , self.X_batch.shape)\n",
        "\n",
        "        y_true_batch = self.y_train[:, batch*self.batch_size:(batch+1)*self.batch_size]\n",
        "        # y_pred_batch = self.y_predicted[:, batch*self.batch_size:(batch+1)*self.batch_size]\n",
        "        self.y_true_batch = y_true_batch\n",
        "        fw_network = Feedforward(self.X_batch,self.activation_fn,self.method, self.init_network).Forward_prop()\n",
        "        self.fw_network = fw_network\n",
        "        self.y_predicted = self.fw_network[L-1].h\n",
        "        self.y_pred_batch = self.y_predicted\n",
        "        # self.y_pred_batch = self.y_predicted[:, batch*self.batch_size:(batch+1)*self.batch_size]\n",
        "        # print(\"y_pred_batch shape : \" , self.y_pred_batch.shape)\n",
        "        # print(\"y_true_batch shape : \" , self.y_true_batch.shape)\n",
        "        assert(self.y_true_batch.shape[1] == self.y_pred_batch.shape[1])\n",
        "\n",
        "        self.loss = callloss(self.loss_function, self.y_true_batch, self.y_pred_batch).give_loss()\n",
        "        overall_loss = CalculateAllLoss(self.X_batch, self.y_pred_batch, self.fw_network, self.y_true_batch, self.loss, self.weight_decay, self.regularization_fn).overall_loss()\n",
        "        self.loss_history.append(overall_loss)\n",
        "        bp_network = Backpropagation(self.loss_function, self.X_batch, self.y_true_batch, self.y_pred_batch, self.fw_network, self.weight_decay, self.batch, self.batch_size, self.activation_fn ).backward_propagation()\n",
        "        self.bp_network = bp_network\n",
        "\n",
        "        if len(self.loss_history) > 5:  # Ensure we have enough data points\n",
        "          recent_losses = self.loss_history[-5:]\n",
        "          loss_std = np.std(recent_losses)  # Compute standard deviation of recent losses\n",
        "\n",
        "          if self.loss_history[-1] > self.loss_history[-2]:\n",
        "              self.eta = max(self.eta * (0.9 if loss_std < 0.01 else 0.8), self.min_eta)\n",
        "\n",
        "        self.eta_history.append(self.eta)\n",
        "\n",
        "        for j in range(L):\n",
        "          u_w[j] = u_w[j] * self.beta +  (1  - self.beta) * (self.bp_network[j].d_w)**2\n",
        "          u_b[j] = u_b[j] * self.beta +  (1  - self.beta) * (self.bp_network[j].d_b)**2\n",
        "\n",
        "          self.fw_network[j].weight -= (self.eta / np.sqrt(u_w[j] + self.epsilon)) * self.bp_network[j].d_w\n",
        "          self.fw_network[j].bias -= (self.eta / np.sqrt(u_b[j] + self.epsilon)) * self.bp_network[j].d_b\n",
        "\n",
        "        acc, loss = CalculateAllLoss(self.X_batch, self.y_pred_batch, self.init_network, self.y_true_batch, self.loss, self.weight_decay, self.regularization_fn).calc_accuracy_loss()\n",
        "        accuracy = round(acc , 4)\n",
        "        train_loss = round(loss , 4)\n",
        "        self.training_history.append(CalculateAllLoss(self.X_batch, self.y_pred_batch, self.init_network, self.y_true_batch, self.loss, self.weight_decay, self.regularization_fn).calc_accuracy_loss())\n",
        "\n",
        "        if self.validX_train is not None:\n",
        "          network = Feedforward(self.validX_train,self.activation_fn,self.method, self.init_network).Forward_prop()\n",
        "          self.network = network\n",
        "          self.valy_predicted = self.network[L-1].h\n",
        "          val_acc, v_loss = CalculateAllLoss(self.validX_train, self.valy_predicted, self.init_network, self.validy_train, self.loss, self.weight_decay, self.regularization_fn).calc_accuracy_loss()\n",
        "          val_accuracy = round(val_acc , 4)\n",
        "          val_loss = round(v_loss , 4)\n",
        "          val_overall_loss = CalculateAllLoss(self.validX_train, self.valy_predicted, self.init_network, self.validy_train, self.loss, self.weight_decay, self.regularization_fn).overall_loss()\n",
        "          self.validation_history.append(CalculateAllLoss(self.validX_train, self.valy_predicted, self.init_network, self.validy_train, self.loss, self.weight_decay, self.regularization_fn).calc_accuracy_loss())\n",
        "\n",
        "\n",
        "        # wandb.log({'epoch': self.epochs,  # Use current epoch, not total epochs\n",
        "        #             'validation_accuracy': val_accuracy if self.validX_train is not None else 0,\n",
        "        #             'accuracy': accuracy,\n",
        "        #             'validation_loss': val_loss if self.validX_train is not None else 0,\n",
        "        #             'loss': train_loss\n",
        "        #         })\n",
        "      print(f\"   Epochs no: {(epoch+1)}  |  Train acc: {accuracy}  |  val acc: {val_accuracy}  |  Train Loss: {train_loss} |  Val Loss : {val_loss}\")\n",
        "\n",
        "    return self.init_network, train_loss, accuracy, val_accuracy, val_loss\n",
        "\n",
        "\n",
        "class ADAM(Optimizer):\n",
        "\n",
        "  def adam_GD(self):\n",
        "\n",
        "    assert(self.X_train.shape[1] == self.y_train.shape[1])\n",
        "    if self.validy_train is not None:\n",
        "      assert(self.validX_train.shape[1] == self.validy_train.shape[1])\n",
        "    L = len(self.n) - 1\n",
        "    # Initialize variables neesed to keep track of loss\n",
        "    self.eta_history = []\n",
        "    self.loss_history = []\n",
        "    self.training_history = []\n",
        "    self.valid_loss_history = []\n",
        "    self.validation_history = []\n",
        "    self.f_network = []\n",
        "    overall_loss = 0\n",
        "    self.batch = 0\n",
        "    accuracy = 0\n",
        "    val_accuracy = 0\n",
        "    val_overall_loss = 0\n",
        "    train_loss = 0\n",
        "    val_loss = 0\n",
        "\n",
        "    i = 0\n",
        "    u_w = [np.zeros_like(self.init_network[k].weight) for k in range(L)]\n",
        "    u_b = [np.zeros_like(self.init_network[k].bias) for k in range(L)]\n",
        "    v_w = [np.zeros_like(self.init_network[k].weight) for k in range(L)]\n",
        "    v_b = [np.zeros_like(self.init_network[k].bias) for k in range(L)]\n",
        "\n",
        "    for epoch in tqdm(range(self.epochs)):\n",
        "\n",
        "\n",
        "      for batch in range(self.batches_number):\n",
        "\n",
        "\n",
        "        X_batch = self.X_train[:, batch*self.batch_size:(batch+1)*self.batch_size]\n",
        "        self.X_batch = X_batch\n",
        "        # print(\"X_batch shape : \" , self.X_batch.shape)\n",
        "\n",
        "        y_true_batch = self.y_train[:, batch*self.batch_size:(batch+1)*self.batch_size]\n",
        "        # y_pred_batch = self.y_predicted[:, batch*self.batch_size:(batch+1)*self.batch_size]\n",
        "        self.y_true_batch = y_true_batch\n",
        "        fw_network = Feedforward(self.X_batch,self.activation_fn,self.method, self.init_network).Forward_prop()\n",
        "        self.fw_network = fw_network\n",
        "        self.y_predicted = self.fw_network[L-1].h\n",
        "        self.y_pred_batch = self.y_predicted\n",
        "        # self.y_pred_batch = self.y_predicted[:, batch*self.batch_size:(batch+1)*self.batch_size]\n",
        "        # print(\"y_pred_batch shape : \" , self.y_pred_batch.shape)\n",
        "        # print(\"y_true_batch shape : \" , self.y_true_batch.shape)\n",
        "        assert(self.y_true_batch.shape[1] == self.y_pred_batch.shape[1])\n",
        "\n",
        "        self.loss = callloss(self.loss_function, self.y_true_batch, self.y_pred_batch).give_loss()\n",
        "        overall_loss = CalculateAllLoss(self.X_batch, self.y_pred_batch, self.fw_network, self.y_true_batch, self.loss, self.weight_decay, self.regularization_fn).overall_loss()\n",
        "        self.loss_history.append(overall_loss)\n",
        "        bp_network = Backpropagation(self.loss_function, self.X_batch, self.y_true_batch, self.y_pred_batch, self.fw_network, self.weight_decay, self.batch, self.batch_size, self.activation_fn ).backward_propagation()\n",
        "        self.bp_network = bp_network\n",
        "\n",
        "        if len(self.loss_history) > 5:  # Ensure we have enough data points\n",
        "          recent_losses = self.loss_history[-5:]\n",
        "          loss_std = np.std(recent_losses)  # Compute standard deviation of recent losses\n",
        "\n",
        "          if self.loss_history[-1] > self.loss_history[-2]:\n",
        "              self.eta = max(self.eta * (0.9 if loss_std < 0.01 else 0.8), self.min_eta)\n",
        "\n",
        "        self.eta_history.append(self.eta)\n",
        "\n",
        "        for j in range(L):\n",
        "          u_w[j] = u_w[j] * self.beta +  (1  - self.beta) * (self.bp_network[j].d_w)\n",
        "          u_b[j] = u_b[j] * self.beta +  (1  - self.beta) * (self.bp_network[j].d_b)\n",
        "          v_w[j] = v_w[j] * self.beta2 +  (1  - self.beta2) * (self.bp_network[j].d_w)**2\n",
        "          v_b[j] = v_b[j] * self.beta2 +  (1  - self.beta2) * (self.bp_network[j].d_b)**2\n",
        "\n",
        "          u_w_pred = u_w[j] / (1 - np.power(self.beta , i+1))\n",
        "          u_b_pred = u_b[j] / (1 - np.power(self.beta , i+1))\n",
        "          v_w_pred = v_w[j] / (1 - np.power(self.beta2 , i+1))\n",
        "          v_b_pred = v_b[j] / (1 - np.power(self.beta2 , i+1))\n",
        "\n",
        "          self.fw_network[j].weight -= (self.eta / (np.sqrt(v_w_pred) + self.epsilon)) * u_w_pred\n",
        "          self.fw_network[j].bias -= (self.eta / (np.sqrt(v_b_pred) + self.epsilon)) * u_b_pred\n",
        "\n",
        "        self.init_network = self.fw_network\n",
        "\n",
        "        acc, loss = CalculateAllLoss(self.X_batch, self.y_pred_batch, self.init_network, self.y_true_batch, self.loss, self.weight_decay, self.regularization_fn).calc_accuracy_loss()\n",
        "        accuracy = round(acc , 5)\n",
        "        train_loss = round(loss , 5)\n",
        "        self.training_history.append(CalculateAllLoss(self.X_batch, self.y_pred_batch, self.init_network, self.y_true_batch, self.loss, self.weight_decay, self.regularization_fn).calc_accuracy_loss())\n",
        "        i+=1\n",
        "\n",
        "        if self.validX_train is not None:\n",
        "          network = Feedforward(self.validX_train,self.activation_fn,self.method, self.init_network).Forward_prop()\n",
        "          self.network = network\n",
        "          self.valy_predicted = self.network[L-1].h\n",
        "          val_acc, v_loss = CalculateAllLoss(self.validX_train, self.valy_predicted, self.init_network, self.validy_train, self.loss, self.weight_decay, self.regularization_fn).calc_accuracy_loss()\n",
        "          val_accuracy = round(val_acc , 5)\n",
        "          val_loss = round(v_loss , 5)\n",
        "          val_overall_loss = CalculateAllLoss(self.validX_train, self.valy_predicted, self.init_network, self.validy_train, self.loss, self.weight_decay, self.regularization_fn).overall_loss()\n",
        "          self.validation_history.append(CalculateAllLoss(self.validX_train, self.valy_predicted, self.init_network, self.validy_train, self.loss, self.weight_decay, self.regularization_fn).calc_accuracy_loss())\n",
        "\n",
        "\n",
        "        # wandb.log({'epoch': self.epochs,  # Use current epoch, not total epochs\n",
        "        #             'validation_accuracy': val_accuracy if self.validX_train is not None else 0,\n",
        "        #             'accuracy': accuracy,\n",
        "        #             'validation_loss': val_loss if self.validX_train is not None else 0,\n",
        "        #             'loss': train_loss\n",
        "        #         })\n",
        "      print(f\"   Epochs no: {(epoch+1)}  |  Train acc: {accuracy}  |  val acc: {val_accuracy}  |  Train Loss: {train_loss} |  Val Loss : {val_loss}\")\n",
        "\n",
        "    return self.init_network, train_loss, accuracy, val_accuracy, val_loss\n",
        "\n",
        "\n",
        "class GiveOptimizers(Optimizer):\n",
        "    def __init__(self, optimization_fn, loss_function, X_train, y_train, activation_fn, layers_dimensions ,method, batch_size, epochs,  validX_train , validy_train ,weight_decay = 0, eta = 0.01, beta = 0.9, beta2 = 0.999, regularization_fn = \"L2\",grad_reglr_fn = \"L2_d\"):\n",
        "      self.optimization_function = optimization_fn.lower()\n",
        "      super().__init__( loss_function, X_train, y_train, activation_fn, layers_dimensions ,method, batch_size, epochs, validX_train, validy_train ,weight_decay = 0, eta = 0.01, beta = 0.9, beta2 = 0.999, regularization_fn = \"L2\",grad_reglr_fn = \"L2_d\" )\n",
        "\n",
        "    def apply_optimization(self):\n",
        "      if self.optimization_function == 'sgd':\n",
        "          return SGD(self.loss_function, self.X_train, self.y_train, self.activation_fn, self.n, self.method, self.batch_size, self.epochs,  self.validX_train, self.validy_train, self.weight_decay,self.eta, self.beta, self.beta2, self.regularization_fn, self.grad_reglr_fn).Gradient_descent()\n",
        "      elif self.optimization_function == 'momentum':\n",
        "          return MGD(self.loss_function, self.X_train, self.y_train, self.activation_fn, self.n, self.method, self.batch_size, self.epochs, self.validX_train, self.validy_train, self.weight_decay,self.eta, self.beta, self.beta2, self.regularization_fn, self.grad_reglr_fn).momentum_GD()\n",
        "      elif self.optimization_function == 'nag':\n",
        "          return NAG(self.loss_function, self.X_train, self.y_train, self.activation_fn, self.n, self.method, self.batch_size, self.epochs, self.validX_train, self.validy_train, self.weight_decay,self.eta, self.beta, self.beta2, self.regularization_fn, self.grad_reglr_fn).Nesterov_AGD()\n",
        "      elif self.optimization_function == 'rmsp':\n",
        "          return RMSProp(self.loss_function, self.X_train, self.y_train, self.activation_fn, self.n, self.method, self.batch_size, self.epochs, self.validX_train, self.validy_train, self.weight_decay,self.eta, self.beta, self.beta2, self.regularization_fn, self.grad_reglr_fn).rms_GD()\n",
        "      elif self.optimization_function == 'adam':\n",
        "          return ADAM(self.loss_function, self.X_train, self.y_train, self.activation_fn, self.n, self.method, self.batch_size, self.epochs, self.validX_train, self.validy_train, self.weight_decay,self.eta, self.beta, self.beta2, self.regularization_fn, self.grad_reglr_fn).adam_GD()"
      ],
      "metadata": {
        "id": "876QHHBCC54L"
      },
      "execution_count": null,
      "outputs": []
    },
    {
      "cell_type": "code",
      "source": [
        "class NeuralNetwork:\n",
        "    def __init__(self, loss_function, X_train, y_train, activation_fn, optimization_fn,\n",
        "                 layers_dimensions, method, batch_size, epochs, val_ratio,\n",
        "                 weight_decay=0, eta=0.01, beta=0.9, beta2=0.999,\n",
        "                 regularization_fn=\"L2\", grad_reglr_fn=\"L2_d\"):\n",
        "\n",
        "        self.loss_function = loss_function\n",
        "        self.X_train = X_train\n",
        "        self.y_train = y_train\n",
        "        self.activation_fn = activation_fn\n",
        "        self.method = method\n",
        "        self.n = layers_dimensions\n",
        "        self.optimization_fn = optimization_fn\n",
        "        self.batch_size = batch_size\n",
        "        self.epochs = epochs\n",
        "        self.val_ratio = val_ratio\n",
        "        self.weight_decay = weight_decay\n",
        "        self.eta = eta\n",
        "        self.epsilon = 1e-10\n",
        "        self.beta = beta\n",
        "        self.beta2 = beta2\n",
        "        self.regularization_fn = regularization_fn\n",
        "        self.grad_reglr_fn = grad_reglr_fn\n",
        "        self.batches_number = max(1, self.X_train.shape[1] // self.batch_size)\n",
        "\n",
        "\n",
        "        # Splitting data\n",
        "        X_split, y_split, valX_split, valy_split = TrainValSplit(self.X_train, self.y_train, self.val_ratio).Apply_split()\n",
        "\n",
        "        # Normalization & Encoding\n",
        "        self.X_norm = Normalize(X_split).Norm_reshape()\n",
        "        self.y_norm = OneHotEncoder(X_split, y_split).onehot_encode()\n",
        "        self.valX_norm = Normalize(valX_split).Norm_reshape()\n",
        "        self.valy_norm = OneHotEncoder(valX_split, valy_split).onehot_encode()\n",
        "\n",
        "        # Ensure correct dimensions\n",
        "        if self.X_norm.shape[1] != self.y_norm.shape[1]:\n",
        "            raise ValueError(f\"Mismatch in training data shapes: {self.X_norm.shape} vs {self.y_norm.shape}\")\n",
        "\n",
        "        if self.valy_norm is not None and self.valX_norm.shape[1] != self.valy_norm.shape[1]:\n",
        "            raise ValueError(f\"Mismatch in validation data shapes: {self.valX_norm.shape} vs {self.valy_norm.shape}\")\n",
        "\n",
        "    def trainNN(self):\n",
        "        NNModel = GiveOptimizers(\n",
        "            self.optimization_fn, self.loss_function, self.X_norm, self.y_norm,\n",
        "            self.activation_fn, self.n, self.method, self.batch_size, self.epochs,\n",
        "            self.valX_norm, self.valy_norm, self.weight_decay, self.eta,\n",
        "            self.beta, self.beta2, self.regularization_fn, self.grad_reglr_fn\n",
        "        ).apply_optimization()\n",
        "\n",
        "        if NNModel is None:\n",
        "            raise ValueError(\"Model initialization failed. `GiveOptimizers.apply_optimization()` returned None.\")\n",
        "\n",
        "        if not isinstance(NNModel, (list, tuple)) or len(NNModel) < 5:\n",
        "            raise ValueError(f\"Unexpected NNModel structure: {type(NNModel)} with length {len(NNModel)}\")\n",
        "\n",
        "        final_network = NNModel[0]\n",
        "        overall_loss = NNModel[1]\n",
        "        accuracy = NNModel[2]\n",
        "        val_loss = NNModel[3]\n",
        "        val_acc = NNModel[4]\n",
        "\n",
        "        return final_network, overall_loss, accuracy, val_loss, val_acc\n"
      ],
      "metadata": {
        "id": "LE7CQHssD72f"
      },
      "execution_count": null,
      "outputs": []
    },
    {
      "cell_type": "code",
      "source": [
        "import wandb\n",
        "class NNTrainer:\n",
        "    def __init__(self, X_train, y_train, num_hidden_layers, hidden_layer_sizes, activation_fns,\n",
        "                 optimizer, batch_size, learning_rate, epochs, weight_init, loss_fn,\n",
        "                 reg_type=\"L2\", weight_decay=0, val_ratio=0.2, method=\"default\",\n",
        "                 beta=0.9, beta2=0.999,\n",
        "                 X_test=None, y_test=None):\n",
        "        \"\"\"\n",
        "        Wrapper class to simplify training a NeuralNetwork model.\n",
        "        Now it dynamically constructs the layer dimensions and activation functions.\n",
        "        \"\"\"\n",
        "        self.X_train = X_train\n",
        "        self.y_train = y_train\n",
        "        self.num_hidden_layers = num_hidden_layers\n",
        "        self.hidden_layer_sizes = hidden_layer_sizes\n",
        "        self.activation_fns = activation_fns\n",
        "        self.optimizer = optimizer\n",
        "        self.batch_size = batch_size\n",
        "        self.learning_rate = learning_rate\n",
        "        self.epochs = epochs\n",
        "        self.weight_init = weight_init\n",
        "        self.loss_fn = loss_fn\n",
        "        self.reg_type = reg_type\n",
        "        self.weight_decay = weight_decay\n",
        "        self.val_ratio = val_ratio\n",
        "        self.method = method\n",
        "        self.beta = beta\n",
        "        self.beta2 = beta2\n",
        "        self.X_test = X_test\n",
        "        self.y_test = y_test\n",
        "\n",
        "        # Automatically construct layer dimensions\n",
        "        self.layers_dimensions = self._construct_layers()\n",
        "        self.activation_fn = self._construct_activations()\n",
        "\n",
        "        # Data Preprocessing\n",
        "        self._prepare_data()\n",
        "\n",
        "    def _construct_layers(self):\n",
        "        \"\"\"Constructs layer dimensions based on the number of hidden layers and their sizes.\"\"\"\n",
        "        input_size = 784  # Fashion-MNIST input size\n",
        "        output_size = 10   # Number of classes in Fashion-MNIST\n",
        "        return [input_size] + self.hidden_layer_sizes[:self.num_hidden_layers] + [output_size]\n",
        "\n",
        "    def _construct_activations(self):\n",
        "        \"\"\"Constructs activation functions for each hidden layer, ending with softmax for classification.\"\"\"\n",
        "        return self.activation_fns[:self.num_hidden_layers] + [\"softmax\"]\n",
        "\n",
        "\n",
        "    def _prepare_data(self):\n",
        "        \"\"\"Splits and normalizes train/validation/test data.\"\"\"\n",
        "        self.X_train, self.y_train, self.X_val, self.y_val = TrainValSplit(\n",
        "            self.X_train, self.y_train, self.val_ratio).Apply_split()\n",
        "\n",
        "        self.X_norm = Normalize(self.X_train).Norm_reshape()\n",
        "        self.y_norm = OneHotEncoder(self.X_train, self.y_train).onehot_encode()\n",
        "        self.X_val_norm = Normalize(self.X_val).Norm_reshape()\n",
        "        self.y_val_norm = OneHotEncoder(self.X_val, self.y_val).onehot_encode()\n",
        "\n",
        "        if self.X_test is not None and self.y_test is not None:\n",
        "            self.X_test_norm = Normalize(self.X_test).Norm_reshape()\n",
        "            self.y_test_norm = OneHotEncoder(self.X_test, self.y_test).onehot_encode()\n",
        "        else:\n",
        "            self.X_test_norm = None\n",
        "            self.y_test_norm = None\n",
        "\n",
        "    def train(self):\n",
        "        \"\"\"Trains the neural network and returns train/val/test metrics.\"\"\"\n",
        "        model = NeuralNetwork(\n",
        "            loss_function=self.loss_fn,\n",
        "            X_train=self.X_train, y_train=self.y_train,\n",
        "            activation_fn=self.activation_fn,\n",
        "            optimization_fn=self.optimizer,\n",
        "            layers_dimensions=self.layers_dimensions,\n",
        "            method=self.method, batch_size=self.batch_size,\n",
        "            epochs=self.epochs, val_ratio=self.val_ratio,\n",
        "            weight_decay=self.weight_decay, eta=self.learning_rate,\n",
        "            beta=self.beta, beta2=self.beta2,\n",
        "            regularization_fn=self.reg_type,\n",
        "            grad_reglr_fn=f\"{self.reg_type}_d\",\n",
        "        )\n",
        "\n",
        "        # Train the model\n",
        "        final_network, overall_loss, train_accuracy, val_loss, val_accuracy = model.trainNN()\n",
        "\n",
        "        # If test data is provided, evaluate on test set\n",
        "        test_loss, test_accuracy = None, None\n",
        "        if self.X_test_norm is not None and self.y_test_norm is not None:\n",
        "            y_test_predicted = Feedforward(self.X_test_norm, self.activation_fn, self.method, final_network).Forward_prop()\n",
        "            y_test_pred = np.array(y_test_predicted[-1].h)\n",
        "            loss = callloss(self.loss_fn, self.y_test_norm, y_test_pred).give_loss()\n",
        "            test_loss_obj = CalculateAllLoss(X_train=self.X_test_norm, y_predicted=y_test_pred, network=final_network,\n",
        "                                             y_train=self.y_test_norm, primary_loss=loss, weight_decay=self.weight_decay,\n",
        "                                             regularisation_fn=self.reg_type)\n",
        "            test_accuracy, test_loss = test_loss_obj.calc_accuracy_loss()\n",
        "\n",
        "        return overall_loss, train_accuracy, val_loss, val_accuracy, test_loss, test_accuracy\n"
      ],
      "metadata": {
        "id": "Ho8aJ4PtD_uW"
      },
      "execution_count": null,
      "outputs": []
    },
    {
      "cell_type": "markdown",
      "source": [
        "**Below the trainer function is used to run the whole model properly also as asked in the the Question-3 , the model is flexible enough to take varity of hyperparameters which canbe easily changed.**"
      ],
      "metadata": {
        "id": "iHO4rZCNEL7e"
      }
    },
    {
      "cell_type": "code",
      "source": [
        "from pickle import FALSE\n",
        "trainer = NNTrainer(\n",
        "    X_train=X_train,\n",
        "    y_train=y_train,\n",
        "    num_hidden_layers=5,  # Specify the number of hidden layers\n",
        "    hidden_layer_sizes=[128, 64, 32],  # Specify possible sizes per hidden layer\n",
        "    activation_fns=[\"tanh\", \"sigmoid\", \"tanh\"],  # Specify possible activations\n",
        "    optimizer=\"adam\",\n",
        "    batch_size=10000,\n",
        "    learning_rate=0.01,\n",
        "    epochs=5,\n",
        "    weight_init=\"Xavier_U\",\n",
        "    loss_fn=\"ce\",\n",
        "    reg_type=\"L2\",\n",
        "    weight_decay=0.0005,\n",
        "    val_ratio=0.1,\n",
        "    method=\"Xavier_U\",\n",
        "    beta=0.9,\n",
        "    beta2=0.999,\n",
        "    X_test=X_test,\n",
        "    y_test=y_test\n",
        ")\n",
        "\n",
        "train_loss, train_acc, val_loss, val_acc, test_loss, test_acc = trainer.train()\n"
      ],
      "metadata": {
        "colab": {
          "base_uri": "https://localhost:8080/"
        },
        "id": "aILEkRJDEFOG",
        "outputId": "4a7cd2ab-9e6a-4c46-8e0a-cfee4414f6e3"
      },
      "execution_count": null,
      "outputs": [
        {
          "output_type": "stream",
          "name": "stderr",
          "text": [
            " 20%|██        | 1/5 [00:02<00:09,  2.32s/it]"
          ]
        },
        {
          "output_type": "stream",
          "name": "stdout",
          "text": [
            "   Epochs no: 1  |  Train acc: 0.6086  |  val acc: 0.63444  |  Train Loss: 0.13577 |  Val Loss : 0.13577\n"
          ]
        },
        {
          "output_type": "stream",
          "name": "stderr",
          "text": [
            "\r 40%|████      | 2/5 [00:06<00:09,  3.27s/it]"
          ]
        },
        {
          "output_type": "stream",
          "name": "stdout",
          "text": [
            "   Epochs no: 2  |  Train acc: 0.6699  |  val acc: 0.66259  |  Train Loss: 0.12993 |  Val Loss : 0.12993\n"
          ]
        },
        {
          "output_type": "stream",
          "name": "stderr",
          "text": [
            "\r 60%|██████    | 3/5 [00:08<00:05,  2.70s/it]"
          ]
        },
        {
          "output_type": "stream",
          "name": "stdout",
          "text": [
            "   Epochs no: 3  |  Train acc: 0.6628  |  val acc: 0.66574  |  Train Loss: 0.13456 |  Val Loss : 0.13456\n"
          ]
        },
        {
          "output_type": "stream",
          "name": "stderr",
          "text": [
            "\r 80%|████████  | 4/5 [00:10<00:02,  2.44s/it]"
          ]
        },
        {
          "output_type": "stream",
          "name": "stdout",
          "text": [
            "   Epochs no: 4  |  Train acc: 0.6636  |  val acc: 0.66444  |  Train Loss: 0.13843 |  Val Loss : 0.13843\n"
          ]
        },
        {
          "output_type": "stream",
          "name": "stderr",
          "text": [
            "100%|██████████| 5/5 [00:12<00:00,  2.47s/it]"
          ]
        },
        {
          "output_type": "stream",
          "name": "stdout",
          "text": [
            "   Epochs no: 5  |  Train acc: 0.6636  |  val acc: 0.66074  |  Train Loss: 0.14107 |  Val Loss : 0.14107\n"
          ]
        },
        {
          "output_type": "stream",
          "name": "stderr",
          "text": [
            "\n"
          ]
        }
      ]
    },
    {
      "cell_type": "markdown",
      "source": [
        "**--------------------------------------------------------------------------------------------------------------------------------------------------------------**"
      ],
      "metadata": {
        "id": "0sS5Hg07DpxH"
      }
    },
    {
      "cell_type": "markdown",
      "source": [
        "# ✅ Question 4 :\n",
        "\n",
        "##Use the standard train/test split of fashion_mnist (use (X_train, y_tr(X_test, y_test) = fashion_mnist.load_data()).\n",
        "##Keep 10% of the training data aside as validation data for this hyperparameter search. Here are some suggestions for different values to try for hyperparameters.\n",
        "##As you can quickly see that this leads to an exponential number of combinations. You will have to think about strategies to do this hyperparameter search efficiently.\n",
        "##Check out the options provided by wandb.sweep and write down what strategy you chose and why.\n",
        "\n",
        "##number of epochs: 5, 10\n",
        "##number of hidden layers: 3, 4, 5\n",
        "##size of every hidden layer: 32, 64, 128\n",
        "##weight decay (L2 regularisation): 0, 0.0005, 0.5\n",
        "##learning rate: 1e-3, 1 e-4\n",
        "##optimizer: sgd, momentum, nesterov, rmsprop, adam, nadam\n",
        "##batch size: 16, 32, 64\n",
        "##weight initialisation: random, Xavier\n",
        "##activation functions: sigmoid, tanh, ReLU\n",
        "##wandb will automatically generate the following plots.\n",
        "##Paste these plots below using the \"Add Panel to Report\" feature.\n",
        "##Make sure you use meaningful names for each sweep (e.g. hl_3_bs_16_ac_tanh to indicate that there were 3 hidden layers, batch size was 16 and activation function was ReLU)\n",
        "##instead of using the default names (whole-sweep, kind-sweep) given by wandb."
      ],
      "metadata": {
        "id": "6WFF4wSQGiDM"
      }
    },
    {
      "cell_type": "markdown",
      "source": [
        "**--------------------------------------------------------------------------------------------------------------------------------------------------------------**"
      ],
      "metadata": {
        "id": "AldeNbMPHtYM"
      }
    },
    {
      "cell_type": "markdown",
      "source": [
        "**Importing the TrainValSplit, OneHotEncoder, Normalize classes to preprocess the data :**"
      ],
      "metadata": {
        "id": "3Rv-_i_PHQfV"
      }
    },
    {
      "cell_type": "markdown",
      "source": [
        "### Trying different hyperparametrs to tune my model"
      ],
      "metadata": {
        "id": "dZvV1jFhMHFG"
      }
    },
    {
      "cell_type": "markdown",
      "source": [
        "**sweep configuration and sweep wrapper**"
      ],
      "metadata": {
        "id": "14roDDEYB-QO"
      }
    },
    {
      "cell_type": "code",
      "source": [
        "\n",
        "\n",
        "#  Sweep configuration matching all provided parameters:\n",
        "sweep_config = {\n",
        "    'method': 'bayes',\n",
        "    'metric': {\n",
        "        'name': 'val_accuracy',\n",
        "        'goal': 'maximize'\n",
        "    },\n",
        "    'parameters': {\n",
        "        'epochs': {'values': [5, 10]},\n",
        "        'num_hidden_layers': {'values': [3, 4, 5]},\n",
        "        'hidden_layer_size': {'values': [32, 64, 128]},\n",
        "        'weight_decay': {'values': [0, 0.0005, 0.5]},\n",
        "        'learning_rate': {'values': [ 0.001, 0.0001]},  # Match large range from your example\n",
        "        'optimizer': {'values': [ \"sgd\", 'momentum', 'nag', 'rmsp', 'adam']},\n",
        "        'batch_size': {'values': [16, 32, 64]},  # Your example used 1000; also add variations\n",
        "        'weight_init': {'values': ['Random', 'Xavier_U']},\n",
        "        'activation_fn': {'values': ['sigmoid', 'tanh', 'relu']}\n",
        "    }\n",
        "}\n",
        "\n",
        "#  Sweep training function using correct call signature:\n",
        "def sweep_train():\n",
        "    wandb.init()\n",
        "    config = wandb.config\n",
        "\n",
        "    # Create hidden layers and activation lists dynamically\n",
        "    hidden_sizes = [config.hidden_layer_size] * config.num_hidden_layers\n",
        "    activations = [config.activation_fn] * config.num_hidden_layers\n",
        "\n",
        "    # Proper run name:\n",
        "    wandb.run.name = f\"hl_{config.num_hidden_layers}_bs_{config.batch_size}_ac_{config.activation_fn}\"\n",
        "\n",
        "    # Call trainer with your exact parameters and sweep values:\n",
        "    trainer = NNTrainer(\n",
        "        X_train=X_train,\n",
        "        y_train=y_train,\n",
        "        num_hidden_layers=config.num_hidden_layers,\n",
        "        hidden_layer_sizes=hidden_sizes,\n",
        "        activation_fns=activations,\n",
        "        optimizer=config.optimizer,\n",
        "        batch_size=config.batch_size,\n",
        "        learning_rate=config.learning_rate,\n",
        "        epochs=config.epochs,\n",
        "        weight_init=config.weight_init,\n",
        "        loss_fn=\"ce\",\n",
        "        reg_type=\"L2\",\n",
        "        weight_decay=config.weight_decay,\n",
        "        val_ratio=0.1,\n",
        "        method=config.weight_init,  # Use same value as weight_init for consistency\n",
        "        beta=0.9,\n",
        "        beta2=0.999,\n",
        "        X_test=X_test,\n",
        "        y_test=y_test\n",
        "    )\n",
        "\n",
        "    train_loss, train_acc, val_loss, val_acc, test_loss, test_acc = trainer.train()\n",
        "\n",
        "    wandb.log({\n",
        "        'train_loss': train_loss,\n",
        "        'train_accuracy': train_acc,\n",
        "        'val_loss': val_loss,\n",
        "        'val_accuracy': val_acc,\n",
        "        'test_loss': test_loss,\n",
        "        'test_accuracy': test_acc\n",
        "    })\n",
        "\n",
        "# Start the sweep:\n",
        "sweep_id = wandb.sweep(sweep_config, project=\"DL_Assignment_1\")\n",
        "wandb.agent(sweep_id, function=sweep_train, count = 200)\n"
      ],
      "metadata": {
        "colab": {
          "base_uri": "https://localhost:8080/",
          "height": 377
        },
        "id": "WDqZpUT8B3yV",
        "outputId": "d042807d-9a63-4530-87cc-8a0165d6c269"
      },
      "execution_count": null,
      "outputs": [
        {
          "output_type": "stream",
          "name": "stdout",
          "text": [
            "Create sweep with ID: ls461827\n",
            "Sweep URL: https://wandb.ai/ed24s014-indian-institute-of-technology-madras/DL_Assignment_1/sweeps/ls461827\n"
          ]
        },
        {
          "output_type": "stream",
          "name": "stderr",
          "text": [
            "\u001b[34m\u001b[1mwandb\u001b[0m: Agent Starting Run: 99qhdcb0 with config:\n",
            "\u001b[34m\u001b[1mwandb\u001b[0m: \tactivation_fn: relu\n",
            "\u001b[34m\u001b[1mwandb\u001b[0m: \tbatch_size: 16\n",
            "\u001b[34m\u001b[1mwandb\u001b[0m: \tepochs: 10\n",
            "\u001b[34m\u001b[1mwandb\u001b[0m: \thidden_layer_size: 64\n",
            "\u001b[34m\u001b[1mwandb\u001b[0m: \tlearning_rate: 0.0001\n",
            "\u001b[34m\u001b[1mwandb\u001b[0m: \tnum_hidden_layers: 3\n",
            "\u001b[34m\u001b[1mwandb\u001b[0m: \toptimizer: sgd\n",
            "\u001b[34m\u001b[1mwandb\u001b[0m: \tweight_decay: 0\n",
            "\u001b[34m\u001b[1mwandb\u001b[0m: \tweight_init: Random\n"
          ]
        },
        {
          "output_type": "display_data",
          "data": {
            "text/plain": [
              "<IPython.core.display.HTML object>"
            ],
            "text/html": [
              "Tracking run with wandb version 0.19.8"
            ]
          },
          "metadata": {}
        },
        {
          "output_type": "display_data",
          "data": {
            "text/plain": [
              "<IPython.core.display.HTML object>"
            ],
            "text/html": [
              "Run data is saved locally in <code>/content/wandb/run-20250321_070504-99qhdcb0</code>"
            ]
          },
          "metadata": {}
        },
        {
          "output_type": "display_data",
          "data": {
            "text/plain": [
              "<IPython.core.display.HTML object>"
            ],
            "text/html": [
              "Syncing run <strong><a href='https://wandb.ai/ed24s014-indian-institute-of-technology-madras/DL_Assignment_1/runs/99qhdcb0' target=\"_blank\">stellar-sweep-1</a></strong> to <a href='https://wandb.ai/ed24s014-indian-institute-of-technology-madras/DL_Assignment_1' target=\"_blank\">Weights & Biases</a> (<a href='https://wandb.me/developer-guide' target=\"_blank\">docs</a>)<br>Sweep page: <a href='https://wandb.ai/ed24s014-indian-institute-of-technology-madras/DL_Assignment_1/sweeps/ls461827' target=\"_blank\">https://wandb.ai/ed24s014-indian-institute-of-technology-madras/DL_Assignment_1/sweeps/ls461827</a>"
            ]
          },
          "metadata": {}
        },
        {
          "output_type": "display_data",
          "data": {
            "text/plain": [
              "<IPython.core.display.HTML object>"
            ],
            "text/html": [
              " View project at <a href='https://wandb.ai/ed24s014-indian-institute-of-technology-madras/DL_Assignment_1' target=\"_blank\">https://wandb.ai/ed24s014-indian-institute-of-technology-madras/DL_Assignment_1</a>"
            ]
          },
          "metadata": {}
        },
        {
          "output_type": "display_data",
          "data": {
            "text/plain": [
              "<IPython.core.display.HTML object>"
            ],
            "text/html": [
              " View sweep at <a href='https://wandb.ai/ed24s014-indian-institute-of-technology-madras/DL_Assignment_1/sweeps/ls461827' target=\"_blank\">https://wandb.ai/ed24s014-indian-institute-of-technology-madras/DL_Assignment_1/sweeps/ls461827</a>"
            ]
          },
          "metadata": {}
        },
        {
          "output_type": "display_data",
          "data": {
            "text/plain": [
              "<IPython.core.display.HTML object>"
            ],
            "text/html": [
              " View run at <a href='https://wandb.ai/ed24s014-indian-institute-of-technology-madras/DL_Assignment_1/runs/99qhdcb0' target=\"_blank\">https://wandb.ai/ed24s014-indian-institute-of-technology-madras/DL_Assignment_1/runs/99qhdcb0</a>"
            ]
          },
          "metadata": {}
        },
        {
          "output_type": "stream",
          "name": "stderr",
          "text": [
            "\r  0%|          | 0/10 [00:00<?, ?it/s]\u001b[34m\u001b[1mwandb\u001b[0m: Ctrl + C detected. Stopping sweep.\n"
          ]
        }
      ]
    },
    {
      "cell_type": "code",
      "source": [
        "wandb.finish()"
      ],
      "metadata": {
        "colab": {
          "base_uri": "https://localhost:8080/",
          "height": 87
        },
        "id": "NQbJPgNaB3v-",
        "outputId": "88af9368-231b-41f7-8e8c-18a3af6e466f"
      },
      "execution_count": null,
      "outputs": [
        {
          "output_type": "display_data",
          "data": {
            "text/plain": [
              "<IPython.core.display.HTML object>"
            ],
            "text/html": []
          },
          "metadata": {}
        },
        {
          "output_type": "display_data",
          "data": {
            "text/plain": [
              "<IPython.core.display.HTML object>"
            ],
            "text/html": [
              " View run <strong style=\"color:#cdcd00\">hl_3_bs_16_ac_relu</strong> at: <a href='https://wandb.ai/ed24s014-indian-institute-of-technology-madras/DL_Assignment_1/runs/99qhdcb0' target=\"_blank\">https://wandb.ai/ed24s014-indian-institute-of-technology-madras/DL_Assignment_1/runs/99qhdcb0</a><br> View project at: <a href='https://wandb.ai/ed24s014-indian-institute-of-technology-madras/DL_Assignment_1' target=\"_blank\">https://wandb.ai/ed24s014-indian-institute-of-technology-madras/DL_Assignment_1</a><br>Synced 5 W&B file(s), 0 media file(s), 0 artifact file(s) and 0 other file(s)"
            ]
          },
          "metadata": {}
        },
        {
          "output_type": "display_data",
          "data": {
            "text/plain": [
              "<IPython.core.display.HTML object>"
            ],
            "text/html": [
              "Find logs at: <code>./wandb/run-20250321_070504-99qhdcb0/logs</code>"
            ]
          },
          "metadata": {}
        }
      ]
    },
    {
      "cell_type": "code",
      "source": [],
      "metadata": {
        "id": "O0JfqdrL_PPj"
      },
      "execution_count": null,
      "outputs": []
    },
    {
      "cell_type": "markdown",
      "source": [
        "**--------------------------------------------------------------------------------------------------------------------------------------------------------------**"
      ],
      "metadata": {
        "id": "c7GtcsTv_QBi"
      }
    },
    {
      "cell_type": "markdown",
      "source": [
        "# ✅ Question 5 & Question 6 : Answer of these two questions are in wandb.ai site report. The link is given below : -"
      ],
      "metadata": {
        "id": "UaQorKeJ_PyD"
      }
    },
    {
      "cell_type": "markdown",
      "source": [
        "**--------------------------------------------------------------------------------------------------------------------------------------------------------------**"
      ],
      "metadata": {
        "id": "ofaag5hu_PoT"
      }
    },
    {
      "cell_type": "code",
      "source": [],
      "metadata": {
        "id": "YwUcSUek_N3b"
      },
      "execution_count": null,
      "outputs": []
    },
    {
      "cell_type": "markdown",
      "source": [
        "**--------------------------------------------------------------------------------------------------------------------------------------------------------------**"
      ],
      "metadata": {
        "id": "IYjtc3tceZ3Y"
      }
    },
    {
      "cell_type": "markdown",
      "source": [
        "\n",
        "# ✅ Question 7:\n",
        "## For the best model identified above, report the accuracy on the test set of fashion_mnist and plot the confusion matrix as shown below. More marks for creativity (less marks for producing the plot shown below as it is)"
      ],
      "metadata": {
        "id": "0-deUFJ4eZPX"
      }
    },
    {
      "cell_type": "markdown",
      "source": [
        "**--------------------------------------------------------------------------------------------------------------------------------------------------------------**"
      ],
      "metadata": {
        "id": "SP_YLs2FeY-Y"
      }
    },
    {
      "cell_type": "markdown",
      "source": [
        "**Confusion Matrix class**"
      ],
      "metadata": {
        "id": "GH44GWYDCQH-"
      }
    },
    {
      "cell_type": "code",
      "source": [
        "import seaborn as sn\n",
        "import pandas as pd\n",
        "import numpy as np\n",
        "import matplotlib.pyplot as plt\n",
        "from sklearn.metrics import confusion_matrix\n",
        "import wandb  # optional, for logging\n",
        "\n",
        "class plot_confusion_matrix:\n",
        "    def __init__(self, X_train, y_train, num_hidden_layers, hidden_layer_sizes, activation_fns,\n",
        "                 optimizer, batch_size, learning_rate, epochs, weight_init, loss_fn,\n",
        "                 reg_type=\"L2\", weight_decay=0, val_ratio=0.2, method=\"default\",\n",
        "                 beta=0.9, beta2=0.999,\n",
        "                 X_test=None, y_test=None):\n",
        "\n",
        "        self.X_train = X_train\n",
        "        self.y_train = y_train\n",
        "        self.num_hidden_layers = num_hidden_layers\n",
        "        self.hidden_layer_sizes = hidden_layer_sizes\n",
        "        self.activation_fns = activation_fns\n",
        "        self.optimizer = optimizer\n",
        "        self.batch_size = batch_size\n",
        "        self.learning_rate = learning_rate\n",
        "        self.epochs = epochs\n",
        "        self.weight_init = weight_init\n",
        "        self.loss_fn = loss_fn\n",
        "        self.reg_type = reg_type\n",
        "        self.weight_decay = weight_decay\n",
        "        self.val_ratio = val_ratio\n",
        "        self.method = method\n",
        "        self.beta = beta\n",
        "        self.beta2 = beta2\n",
        "        self.X_test = X_test\n",
        "        self.y_test = y_test\n",
        "\n",
        "        self.layers_dimensions = self._construct_layers()\n",
        "        self.activation_fn = self._construct_activations()\n",
        "        self._prepare_data()\n",
        "\n",
        "    def _construct_layers(self):\n",
        "        input_size = 784  # Fashion-MNIST input size\n",
        "        output_size = 10  # Number of classes\n",
        "        return [input_size] + self.hidden_layer_sizes[:self.num_hidden_layers] + [output_size]\n",
        "\n",
        "    def _construct_activations(self):\n",
        "        return self.activation_fns[:self.num_hidden_layers] + [\"softmax\"]\n",
        "\n",
        "    def _prepare_data(self):\n",
        "        self.X_train, self.y_train, self.X_val, self.y_val = TrainValSplit(\n",
        "            self.X_train, self.y_train, self.val_ratio).Apply_split()\n",
        "\n",
        "        self.X_norm = Normalize(self.X_train).Norm_reshape()\n",
        "        self.y_norm = OneHotEncoder(self.X_train, self.y_train).onehot_encode()\n",
        "        self.X_val_norm = Normalize(self.X_val).Norm_reshape()\n",
        "        self.y_val_norm = OneHotEncoder(self.X_val, self.y_val).onehot_encode()\n",
        "\n",
        "        if self.X_test is not None and self.y_test is not None:\n",
        "            self.X_test_norm = Normalize(self.X_test).Norm_reshape()\n",
        "            self.y_test_norm = OneHotEncoder(self.X_test, self.y_test).onehot_encode()\n",
        "        else:\n",
        "            self.X_test_norm = None\n",
        "            self.y_test_norm = None\n",
        "\n",
        "    def confusion_matrix(self):\n",
        "        model = NeuralNetwork(\n",
        "            loss_function=self.loss_fn,\n",
        "            X_train=self.X_train, y_train=self.y_train,\n",
        "            activation_fn=self.activation_fn,\n",
        "            optimization_fn=self.optimizer,\n",
        "            layers_dimensions=self.layers_dimensions,\n",
        "            method=self.method, batch_size=self.batch_size,\n",
        "            epochs=self.epochs, val_ratio=self.val_ratio,\n",
        "            weight_decay=self.weight_decay, eta=self.learning_rate,\n",
        "            beta=self.beta, beta2=self.beta2,\n",
        "            regularization_fn=self.reg_type,\n",
        "            grad_reglr_fn=f\"{self.reg_type}_d\",\n",
        "        )\n",
        "\n",
        "        final_network, _, train_acc, _, val_acc = model.trainNN()\n",
        "\n",
        "        if self.X_test_norm is None or self.y_test_norm is None:\n",
        "            print(\"Test data not provided. Cannot compute confusion matrix.\")\n",
        "            return\n",
        "\n",
        "        # Predict\n",
        "        y_test_predicted = Feedforward(self.X_test_norm, self.activation_fn, self.method, final_network).Forward_prop()\n",
        "        y_test_pred = np.array(y_test_predicted[-1].h)\n",
        "\n",
        "        y_true = np.argmax(self.y_test_norm, axis=0)\n",
        "        y_pred = np.argmax(y_test_pred, axis=0)\n",
        "\n",
        "        # Compute confusion matrix\n",
        "        cm = confusion_matrix(y_true, y_pred)\n",
        "        cm_normalized = cm.astype('float') / cm.sum(axis=1)[:, np.newaxis]\n",
        "\n",
        "        # Prepare plot\n",
        "        fig, ax = plt.subplots(figsize=(10, 10))\n",
        "        cmap = sn.light_palette(\"red\", as_cmap=True)\n",
        "\n",
        "        sn.heatmap(cm_normalized, annot=False, fmt=\".2f\", cmap=cmap,\n",
        "                   cbar=False, square=True, linewidths=0.5, ax=ax)\n",
        "\n",
        "        for i in range(cm.shape[0]):\n",
        "            ax.add_patch(plt.Rectangle((i, i), 1, 1, fill=False, edgecolor='lime', lw=3))\n",
        "\n",
        "        ax.set_xlabel(\"y_pred\", fontsize=16)\n",
        "        ax.set_ylabel(\"y_true\", fontsize=16)\n",
        "        ax.set_title(\"Confusion matrix\", fontsize=18, color=\"royalblue\", pad=20)\n",
        "\n",
        "        ax.xaxis.set_ticks_position('none')\n",
        "        ax.yaxis.set_ticks_position('none')\n",
        "        ax.tick_params(axis='x', labelrotation=45)\n",
        "\n",
        "        try:\n",
        "            ax.set_xticklabels([IMG_LABELS[i] for i in range(cm.shape[1])])\n",
        "            ax.set_yticklabels([IMG_LABELS[i] for i in range(cm.shape[0])])\n",
        "        except:\n",
        "            pass\n",
        "\n",
        "        plt.tight_layout()\n",
        "\n",
        "        try:\n",
        "            wandb.log({'Confusion Matrix': wandb.Image(plt, caption=\"Creative Confusion Matrix\")})\n",
        "        except:\n",
        "            pass\n",
        "\n",
        "        plt.show()\n"
      ],
      "metadata": {
        "id": "ftflKo9OB3tW"
      },
      "execution_count": null,
      "outputs": []
    },
    {
      "cell_type": "markdown",
      "source": [
        "**Below is the calling function to plot the Confusion Matrix also the plot will be logged into the wandb account**"
      ],
      "metadata": {
        "id": "Tn7bFXL2n2AT"
      }
    },
    {
      "cell_type": "code",
      "source": [
        "\n",
        "\n",
        "run = wandb.init(project=\"DA6401_Q7\", reinit=True)\n",
        "plot = plot_confusion_matrix(\n",
        "    X_train=X_train,\n",
        "    y_train=y_train,\n",
        "    num_hidden_layers=5,  # Specify the number of hidden layers\n",
        "    hidden_layer_sizes=[128, 64, 32],  # Specify possible sizes per hidden layer\n",
        "    activation_fns=[\"tanh\", \"sigmoid\", \"tanh\"],  # Specify possible activations\n",
        "    optimizer=\"adam\",\n",
        "    batch_size=10000,\n",
        "    learning_rate=0.01,\n",
        "    epochs=5,\n",
        "    weight_init=\"Xavier_U\",\n",
        "    loss_fn=\"ce\",\n",
        "    reg_type=\"L2\",\n",
        "    weight_decay=0.0005,\n",
        "    val_ratio=0.1,\n",
        "    method=\"Xavier_U\",\n",
        "    beta=0.9,\n",
        "    beta2=0.999,\n",
        "    X_test=X_test,\n",
        "    y_test=y_test\n",
        ")\n",
        "plot.confusion_matrix()\n",
        "run.finish()"
      ],
      "metadata": {
        "colab": {
          "base_uri": "https://localhost:8080/",
          "height": 1000
        },
        "id": "QBLndpn3j77p",
        "outputId": "b2f520d8-e067-40d2-e3c4-e2180e1991a4"
      },
      "execution_count": null,
      "outputs": [
        {
          "output_type": "display_data",
          "data": {
            "text/plain": [
              "<IPython.core.display.HTML object>"
            ],
            "text/html": [
              "Ignoring project 'DA6401_Q7' when running a sweep."
            ]
          },
          "metadata": {}
        },
        {
          "output_type": "display_data",
          "data": {
            "text/plain": [
              "<IPython.core.display.HTML object>"
            ],
            "text/html": [
              "Tracking run with wandb version 0.19.8"
            ]
          },
          "metadata": {}
        },
        {
          "output_type": "display_data",
          "data": {
            "text/plain": [
              "<IPython.core.display.HTML object>"
            ],
            "text/html": [
              "Run data is saved locally in <code>/content/wandb/run-20250321_073941-99qhdcb0</code>"
            ]
          },
          "metadata": {}
        },
        {
          "output_type": "display_data",
          "data": {
            "text/plain": [
              "<IPython.core.display.HTML object>"
            ],
            "text/html": [
              "Syncing run <strong><a href='https://wandb.ai/ed24s014-indian-institute-of-technology-madras/DL_Assignment_1/runs/99qhdcb0' target=\"_blank\">hl_3_bs_16_ac_relu</a></strong> to <a href='https://wandb.ai/ed24s014-indian-institute-of-technology-madras/DL_Assignment_1' target=\"_blank\">Weights & Biases</a> (<a href='https://wandb.me/developer-guide' target=\"_blank\">docs</a>)<br>Sweep page: <a href='https://wandb.ai/ed24s014-indian-institute-of-technology-madras/DL_Assignment_1/sweeps/ls461827' target=\"_blank\">https://wandb.ai/ed24s014-indian-institute-of-technology-madras/DL_Assignment_1/sweeps/ls461827</a>"
            ]
          },
          "metadata": {}
        },
        {
          "output_type": "display_data",
          "data": {
            "text/plain": [
              "<IPython.core.display.HTML object>"
            ],
            "text/html": [
              " View project at <a href='https://wandb.ai/ed24s014-indian-institute-of-technology-madras/DL_Assignment_1' target=\"_blank\">https://wandb.ai/ed24s014-indian-institute-of-technology-madras/DL_Assignment_1</a>"
            ]
          },
          "metadata": {}
        },
        {
          "output_type": "display_data",
          "data": {
            "text/plain": [
              "<IPython.core.display.HTML object>"
            ],
            "text/html": [
              " View sweep at <a href='https://wandb.ai/ed24s014-indian-institute-of-technology-madras/DL_Assignment_1/sweeps/ls461827' target=\"_blank\">https://wandb.ai/ed24s014-indian-institute-of-technology-madras/DL_Assignment_1/sweeps/ls461827</a>"
            ]
          },
          "metadata": {}
        },
        {
          "output_type": "display_data",
          "data": {
            "text/plain": [
              "<IPython.core.display.HTML object>"
            ],
            "text/html": [
              " View run at <a href='https://wandb.ai/ed24s014-indian-institute-of-technology-madras/DL_Assignment_1/runs/99qhdcb0' target=\"_blank\">https://wandb.ai/ed24s014-indian-institute-of-technology-madras/DL_Assignment_1/runs/99qhdcb0</a>"
            ]
          },
          "metadata": {}
        },
        {
          "output_type": "stream",
          "name": "stderr",
          "text": [
            "\n",
            "  0%|          | 0/5 [00:00<?, ?it/s]\u001b[A\n",
            " 20%|██        | 1/5 [00:03<00:15,  3.98s/it]\u001b[A"
          ]
        },
        {
          "output_type": "stream",
          "name": "stdout",
          "text": [
            "   Epochs no: 1  |  Train acc: 0.6086  |  val acc: 0.63444  |  Train Loss: 0.13577 |  Val Loss : 0.13577\n"
          ]
        },
        {
          "output_type": "stream",
          "name": "stderr",
          "text": [
            "\n",
            " 40%|████      | 2/5 [00:08<00:12,  4.18s/it]\u001b[A"
          ]
        },
        {
          "output_type": "stream",
          "name": "stdout",
          "text": [
            "   Epochs no: 2  |  Train acc: 0.6699  |  val acc: 0.66259  |  Train Loss: 0.12993 |  Val Loss : 0.12993\n"
          ]
        },
        {
          "output_type": "stream",
          "name": "stderr",
          "text": [
            "\n",
            " 60%|██████    | 3/5 [00:14<00:10,  5.30s/it]\u001b[A"
          ]
        },
        {
          "output_type": "stream",
          "name": "stdout",
          "text": [
            "   Epochs no: 3  |  Train acc: 0.6628  |  val acc: 0.66574  |  Train Loss: 0.13456 |  Val Loss : 0.13456\n"
          ]
        },
        {
          "output_type": "stream",
          "name": "stderr",
          "text": [
            "\n",
            " 80%|████████  | 4/5 [00:19<00:04,  4.84s/it]\u001b[A"
          ]
        },
        {
          "output_type": "stream",
          "name": "stdout",
          "text": [
            "   Epochs no: 4  |  Train acc: 0.6636  |  val acc: 0.66444  |  Train Loss: 0.13843 |  Val Loss : 0.13843\n"
          ]
        },
        {
          "output_type": "stream",
          "name": "stderr",
          "text": [
            "\n",
            "100%|██████████| 5/5 [00:22<00:00,  4.57s/it]"
          ]
        },
        {
          "output_type": "stream",
          "name": "stdout",
          "text": [
            "   Epochs no: 5  |  Train acc: 0.6636  |  val acc: 0.66074  |  Train Loss: 0.14107 |  Val Loss : 0.14107\n"
          ]
        },
        {
          "output_type": "stream",
          "name": "stderr",
          "text": [
            "\n"
          ]
        },
        {
          "output_type": "display_data",
          "data": {
            "text/plain": [
              "<Figure size 1000x1000 with 1 Axes>"
            ],
            "image/png": "[encoded data removed]"
          },
          "metadata": {}
        },
        {
          "output_type": "display_data",
          "data": {
            "text/plain": [
              "<IPython.core.display.HTML object>"
            ],
            "text/html": []
          },
          "metadata": {}
        },
        {
          "output_type": "display_data",
          "data": {
            "text/plain": [
              "<IPython.core.display.HTML object>"
            ],
            "text/html": [
              " View run <strong style=\"color:#cdcd00\">hl_3_bs_16_ac_relu</strong> at: <a href='https://wandb.ai/ed24s014-indian-institute-of-technology-madras/DL_Assignment_1/runs/99qhdcb0' target=\"_blank\">https://wandb.ai/ed24s014-indian-institute-of-technology-madras/DL_Assignment_1/runs/99qhdcb0</a><br> View project at: <a href='https://wandb.ai/ed24s014-indian-institute-of-technology-madras/DL_Assignment_1' target=\"_blank\">https://wandb.ai/ed24s014-indian-institute-of-technology-madras/DL_Assignment_1</a><br>Synced 5 W&B file(s), 1 media file(s), 0 artifact file(s) and 0 other file(s)"
            ]
          },
          "metadata": {}
        },
        {
          "output_type": "display_data",
          "data": {
            "text/plain": [
              "<IPython.core.display.HTML object>"
            ],
            "text/html": [
              "Find logs at: <code>./wandb/run-20250321_073941-99qhdcb0/logs</code>"
            ]
          },
          "metadata": {}
        }
      ]
    },
    {
      "cell_type": "markdown",
      "source": [
        "**--------------------------------------------------------------------------------------------------------------------------------------------------------------**"
      ],
      "metadata": {
        "id": "92sXduYXs698"
      }
    },
    {
      "cell_type": "markdown",
      "source": [
        "\n",
        "# ✅ Question 8 :\n",
        "## In all the models above you would have used cross entropy loss. Now compare the cross entropy loss with the squared error loss. I would again like to see some automatically generated plots or your own plots to convince me whether one is better than the other."
      ],
      "metadata": {
        "id": "KYZ-_8-xp4dD"
      }
    },
    {
      "cell_type": "markdown",
      "source": [
        "**--------------------------------------------------------------------------------------------------------------------------------------------------------------**"
      ],
      "metadata": {
        "id": "_hbwj0qms8dM"
      }
    },
    {
      "cell_type": "markdown",
      "source": [
        "**\"Cross-entropy\" and \"Square-loss\" is added in sweep for both loss comparision**"
      ],
      "metadata": {
        "id": "s027Q7Ko95Nj"
      }
    },
    {
      "cell_type": "code",
      "source": [
        "# Add a new parameter for loss function to the sweep config\n",
        "sweep_config = {\n",
        "    'method': 'bayes',\n",
        "    'metric': {\n",
        "        'name': 'val_accuracy',\n",
        "        'goal': 'maximize'\n",
        "    },\n",
        "    'parameters': {\n",
        "        'epochs': {'values': [5, 10]},\n",
        "        'num_hidden_layers': {'values': [3, 4, 5]},\n",
        "        'hidden_layer_size': {'values': [32, 64, 128]},\n",
        "        'weight_decay': {'values': [0, 0.0005, 0.5]},\n",
        "        'learning_rate': {'values': [0.001, 0.0001]},\n",
        "        'optimizer': {'values': [\"sgd\", 'momentum', 'nag', 'rmsp', 'adam']},\n",
        "        'batch_size': {'values': [1000, 2000, 5000]},\n",
        "        'weight_init': {'values': ['Random', 'Xavier_U']},\n",
        "        'activation_fn': {'values': ['sigmoid', 'tanh', 'relu']},\n",
        "        'loss_fn': {'values': ['ce', 'se']}  # <-- Added for comparison\n",
        "    }\n",
        "}\n",
        "\n",
        "# Training function using the chosen loss function\n",
        "def sweep_train():\n",
        "    wandb.init()\n",
        "    config = wandb.config\n",
        "\n",
        "    hidden_sizes = [config.hidden_layer_size] * config.num_hidden_layers\n",
        "    activations = [config.activation_fn] * config.num_hidden_layers\n",
        "\n",
        "    loss_name = \"ce\" if config.loss_fn == \"ce\" else \"se\"\n",
        "    wandb.run.name = f\"{loss_name}_hl_{config.num_hidden_layers}_bs_{config.batch_size}_ac_{config.activation_fn}\"\n",
        "\n",
        "    trainer = NNTrainer(\n",
        "        X_train=X_train,\n",
        "        y_train=y_train,\n",
        "        num_hidden_layers=config.num_hidden_layers,\n",
        "        hidden_layer_sizes=hidden_sizes,\n",
        "        activation_fns=activations,\n",
        "        optimizer=config.optimizer,\n",
        "        batch_size=config.batch_size,\n",
        "        learning_rate=config.learning_rate,\n",
        "        epochs=config.epochs,\n",
        "        weight_init=config.weight_init,\n",
        "        loss_fn=loss_name,\n",
        "        reg_type=\"L2\",\n",
        "        weight_decay=config.weight_decay,\n",
        "        val_ratio=0.1,\n",
        "        method=config.weight_init,\n",
        "        beta=0.9,\n",
        "        beta2=0.999,\n",
        "        X_test=X_test,\n",
        "        y_test=y_test\n",
        "    )\n",
        "\n",
        "    train_loss, train_acc, val_loss, val_acc, test_loss, test_acc = trainer.train()\n",
        "\n",
        "    wandb.log({\n",
        "        'train_loss': train_loss,\n",
        "        'train_accuracy': train_acc,\n",
        "        'val_loss': val_loss,\n",
        "        'val_accuracy': val_acc,\n",
        "        'test_loss': test_loss,\n",
        "        'test_accuracy': test_acc,\n",
        "        'loss_fn': config.loss_fn\n",
        "    })\n",
        "\n",
        "# Launch sweep\n",
        "sweep_id = wandb.sweep(sweep_config, project=\"DL_Assignment_8\")\n",
        "wandb.agent(sweep_id, function=sweep_train, count=200)\n"
      ],
      "metadata": {
        "id": "9XxF5W9fpvjE"
      },
      "execution_count": null,
      "outputs": []
    },
    {
      "cell_type": "code",
      "source": [
        "wandb.finish()"
      ],
      "metadata": {
        "colab": {
          "base_uri": "https://localhost:8080/",
          "height": 87
        },
        "id": "4_Glot9zsDPs",
        "outputId": "59e3a49c-363f-4a0e-e9e4-abddd95fe602"
      },
      "execution_count": null,
      "outputs": [
        {
          "output_type": "display_data",
          "data": {
            "text/plain": [
              "<IPython.core.display.HTML object>"
            ],
            "text/html": []
          },
          "metadata": {}
        },
        {
          "output_type": "display_data",
          "data": {
            "text/plain": [
              "<IPython.core.display.HTML object>"
            ],
            "text/html": [
              " View run <strong style=\"color:#cdcd00\">se_hl_4_bs_1000_ac_sigmoid</strong> at: <a href='https://wandb.ai/ed24s014-indian-institute-of-technology-madras/DL_Assignment_8/runs/xbkpjw66' target=\"_blank\">https://wandb.ai/ed24s014-indian-institute-of-technology-madras/DL_Assignment_8/runs/xbkpjw66</a><br> View project at: <a href='https://wandb.ai/ed24s014-indian-institute-of-technology-madras/DL_Assignment_8' target=\"_blank\">https://wandb.ai/ed24s014-indian-institute-of-technology-madras/DL_Assignment_8</a><br>Synced 5 W&B file(s), 0 media file(s), 0 artifact file(s) and 0 other file(s)"
            ]
          },
          "metadata": {}
        },
        {
          "output_type": "display_data",
          "data": {
            "text/plain": [
              "<IPython.core.display.HTML object>"
            ],
            "text/html": [
              "Find logs at: <code>./wandb/run-20250321_075451-xbkpjw66/logs</code>"
            ]
          },
          "metadata": {}
        }
      ]
    },
    {
      "cell_type": "markdown",
      "source": [
        "**Below function will plot the comparesion between \"Squared_error\" and \"Cross_entropy\" and it can be seen observed in wandb also**"
      ],
      "metadata": {
        "id": "_7-dj-2cs-_k"
      }
    },
    {
      "cell_type": "code",
      "source": [
        "import wandb\n",
        "api = wandb.Api()\n",
        "runs = api.runs(\"DL_Assignment_8\")\n",
        "\n",
        "# Example: comparing final validation accuracy\n",
        "data = []\n",
        "for run in runs:\n",
        "    config = run.config\n",
        "    val_acc = run.summary.get(\"val_accuracy\")\n",
        "    loss_fn = config.get(\"loss_fn\")\n",
        "    data.append((loss_fn, val_acc))\n",
        "\n",
        "import pandas as pd\n",
        "import seaborn as sns\n",
        "import matplotlib.pyplot as plt\n",
        "\n",
        "df = pd.DataFrame(data, columns=[\"Loss Function\", \"Validation Accuracy\"])\n",
        "sns.boxplot(x=\"Loss Function\", y=\"Validation Accuracy\", data=df)\n",
        "plt.title(\"Cross Entropy vs Squared Error on Validation Accuracy\")\n",
        "plt.show()\n"
      ],
      "metadata": {
        "id": "QY5Chq9eB3qO"
      },
      "execution_count": null,
      "outputs": []
    },
    {
      "cell_type": "markdown",
      "source": [
        "**--------------------------------------------------------------------------------------------------------------------------------------------------------------**"
      ],
      "metadata": {
        "id": "-4nXhJQ8tuJV"
      }
    },
    {
      "cell_type": "markdown",
      "source": [
        "\n",
        "# ✅ Question 9 :\n",
        "## Paste a link to your github code for this assignment\n",
        "\n",
        "## We will check for coding style, clarity in using functions and a README file with clear instructions on training and evaluating the model (the 10 marks will be based on this)\n",
        "\n",
        "## We will also run a plagiarism check to ensure that the code is not copied (0 marks in the assignment if we find that the code is plagiarized)\n",
        "\n",
        "## We will also check if the training and test data has been split properly and randomly. You will get 0 marks on the assignment if we find any cheating (e.g., adding test data to training data) to get higher accuracy"
      ],
      "metadata": {
        "id": "dqWjWR22tz5M"
      }
    },
    {
      "cell_type": "markdown",
      "source": [
        "**--------------------------------------------------------------------------------------------------------------------------------------------------------------**"
      ],
      "metadata": {
        "id": "TK0tQFPktvcF"
      }
    },
    {
      "cell_type": "markdown",
      "source": [
        "**All my observations are in README.md file in Github. The link of my Github account is given below**"
      ],
      "metadata": {
        "id": "z8-QdBFjST4Y"
      }
    },
    {
      "cell_type": "markdown",
      "source": [
        "## Github Link : https://github.com/indramandal85/DA6401_Assignment_1.git"
      ],
      "metadata": {
        "id": "kOo8KFWwX-Da"
      }
    },
    {
      "cell_type": "markdown",
      "source": [
        "**--------------------------------------------------------------------------------------------------------------------------------------------------------------**"
      ],
      "metadata": {
        "id": "MGg5N8agvBYV"
      }
    },
    {
      "cell_type": "markdown",
      "source": [
        "# ✅ Question 10 :\n",
        "## Based on your learnings above, give me 3 recommendations for what would work for the MNIST dataset (not Fashion-MNIST). Just to be clear, I am asking you to take your learnings based on extensive experimentation with one dataset and see if these learnings help on another dataset. If I give you a budget of running only 3 hyperparameter configurations as opposed to the large number of experiments you have run above then which 3 would you use and why. Report the accuracies that you obtain using these 3 configurations."
      ],
      "metadata": {
        "id": "YmOyeKkNvEsV"
      }
    },
    {
      "cell_type": "markdown",
      "source": [
        "**--------------------------------------------------------------------------------------------------------------------------------------------------------------**"
      ],
      "metadata": {
        "id": "PwrOF7COvFIN"
      }
    },
    {
      "cell_type": "markdown",
      "source": [
        "**In README.md**"
      ],
      "metadata": {
        "id": "dbsPC0Acj08b"
      }
    },
    {
      "cell_type": "code",
      "source": [],
      "metadata": {
        "id": "3S6uSMzFu1eN"
      },
      "execution_count": null,
      "outputs": []
    }
  ]
}