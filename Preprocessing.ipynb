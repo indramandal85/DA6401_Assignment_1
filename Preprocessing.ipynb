{
 "cells": [
  {
   "cell_type": "code",
   "execution_count": 1,
   "id": "905e599d-f998-407a-9059-cd2fde2544db",
   "metadata": {},
   "outputs": [],
   "source": [
    "import numpy  as np\n",
    "\n",
    "class OneHotEncoder:\n",
    "\n",
    "    def __init__(self,x, y, num_class):\n",
    "        self.y = y\n",
    "        self.x = x\n",
    "        self.num_class = num_class\n",
    "        self.results = self.onehot_encode()\n",
    "\n",
    "    def onehot_encode(self):\n",
    "        onehot = np.zeors(self.x.size, num_class)\n",
    "\n",
    "        for i, j in zip(range(len(x)), y):\n",
    "            onehot[i, j] = 1\n",
    "        return onehot\n",
    "\n",
    "class Normalize:\n",
    "\n",
    "    def __init__(self, unprocessed_X, unprocessed_y):\n",
    "        self.unprocessed_X = unprocessed_X\n",
    "        self.unprocessed_y = unprocessed_y\n",
    "        self.norm_reshape()\n",
    "\n",
    "    def Norm_reshape(self):\n",
    "        X_norm = np.reshape(unprocessed_X,(unprocessed_X.shape[0],784)).T/255\n",
    "        X_norm= np.array(X_norm)\n",
    "        y_norm = OneHotEncoder(self.unprocessed_X,self.unprocessed_y,10).onehot_encode().T\n",
    "        \n",
    "        return X_norm,y_norm"
   ]
  },
  {
   "cell_type": "code",
   "execution_count": null,
   "id": "13c18302-0dc2-48da-a70e-5e291cb242e3",
   "metadata": {},
   "outputs": [],
   "source": []
  }
 ],
 "metadata": {
  "kernelspec": {
   "display_name": "Python [conda env:base] *",
   "language": "python",
   "name": "conda-base-py"
  },
  "language_info": {
   "codemirror_mode": {
    "name": "ipython",
    "version": 3
   },
   "file_extension": ".py",
   "mimetype": "text/x-python",
   "name": "python",
   "nbconvert_exporter": "python",
   "pygments_lexer": "ipython3",
   "version": "3.12.4"
  }
 },
 "nbformat": 4,
 "nbformat_minor": 5
}
