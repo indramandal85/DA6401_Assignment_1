{
  "cells": [
    {
      "cell_type": "code",
      "execution_count": null,
      "id": "905e599d-f998-407a-9059-cd2fde2544db",
      "metadata": {
        "id": "905e599d-f998-407a-9059-cd2fde2544db"
      },
      "outputs": [],
      "source": [
        "import numpy  as np\n",
        "\n",
        "class OneHotEncoder:\n",
        "\n",
        "    def __init__(self,x, y):\n",
        "        self.y = y\n",
        "        self.x = x\n",
        "        #self.num_class = num_class\n",
        "        self.onehot_encode()\n",
        "\n",
        "    def onehot_encode(self):\n",
        "        onehot = np.zeros((self.x.shape[0], 10))\n",
        "\n",
        "        for i, j in zip(range(len(self.x)), self.y):\n",
        "            onehot[i, j] = 1\n",
        "        return onehot.T\n",
        "\n",
        "class Normalize:\n",
        "\n",
        "    def __init__(self, unprocessed_X):\n",
        "        self.unprocessed_X = unprocessed_X\n",
        "        self.Norm_reshape()\n",
        "\n",
        "    def Norm_reshape(self):\n",
        "        X_norm = np.reshape(self.unprocessed_X,(self.unprocessed_X.shape[0],784)).T/255\n",
        "        X_norm= np.array(X_norm)\n",
        "\n",
        "        return X_norm\n",
        "\n",
        "\n",
        "class TrainValSplit:\n",
        "  def __init__(self, X_train, y_train, Val_split_ratio = 0.9):\n",
        "    self.X = X_train\n",
        "    self.y = y_train\n",
        "    self.vsr = Val_split_ratio\n",
        "\n",
        "  def Apply_split(self):\n",
        "    np.random.seed(0)\n",
        "\n",
        "    i = np.random.permutation(len(self.X))\n",
        "    split = int(self.X.shape[0] * (1 - self.vsr))\n",
        "\n",
        "    train = i[:split]\n",
        "    val = i[split:]\n",
        "\n",
        "    train_X = self.X[train]\n",
        "    val_X = self.X[val]\n",
        "\n",
        "    train_y = self.y[train]\n",
        "    val_y = self.y[val]\n",
        "\n",
        "    return train_X , train_y, val_X, val_y"
      ]
    },
    {
      "cell_type": "code",
      "execution_count": null,
      "id": "13c18302-0dc2-48da-a70e-5e291cb242e3",
      "metadata": {
        "id": "13c18302-0dc2-48da-a70e-5e291cb242e3"
      },
      "outputs": [],
      "source": []
    }
  ],
  "metadata": {
    "kernelspec": {
      "display_name": "Python [conda env:base] *",
      "language": "python",
      "name": "conda-base-py"
    },
    "language_info": {
      "codemirror_mode": {
        "name": "ipython",
        "version": 3
      },
      "file_extension": ".py",
      "mimetype": "text/x-python",
      "name": "python",
      "nbconvert_exporter": "python",
      "pygments_lexer": "ipython3",
      "version": "3.12.4"
    },
    "colab": {
      "provenance": []
    }
  },
  "nbformat": 4,
  "nbformat_minor": 5
}