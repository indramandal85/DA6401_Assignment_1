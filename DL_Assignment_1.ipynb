{
 "cells": [
  {
   "cell_type": "code",
   "execution_count": 49,
   "id": "2b58ee33-a50a-4d32-ad22-0cc926eb0ca5",
   "metadata": {},
   "outputs": [],
   "source": [
    "import numpy as np\n",
    "\n",
    "class InitilizeParameter:\n",
    "\n",
    "    def __init__(self):\n",
    "        self.neurons = []\n",
    "        self.parameters = {}\n",
    "        self.Initilize()\n",
    "\n",
    "    def Layers(self):\n",
    "        self.neurons = []\n",
    "        input_neurons = int(input(\"How many neurons are in the input layer? \"))\n",
    "        self.neurons.append(input_neurons)\n",
    "        \n",
    "        l = int(input(\"How many hidden layers (including output) do you want ? \"))\n",
    "\n",
    "        for i in range(l):\n",
    "            m  = input(f\"How many neurons do you want in layer {i+1}\")\n",
    "            self.neurons.append(int(m))\n",
    "        return self.neurons\n",
    "\n",
    "    def Initilize(self):\n",
    "        self.Layers()\n",
    "        self.parameters = {}\n",
    "\n",
    "        for a in range(1, len(self.neurons)):\n",
    "            self.parameters[\"w\" + str(a)] = np.ones((self.neurons[a - 1], self.neurons[a]))*0.1\n",
    "            self.parameters[\"b\" + str(a)] = np.zeros((self.neurons[a], 1))\n",
    "        print(self.parameters)\n",
    "            "
   ]
  },
  {
   "cell_type": "code",
   "execution_count": 51,
   "id": "c29a7761-67d1-4f85-842f-a06e1b3956b3",
   "metadata": {},
   "outputs": [
    {
     "name": "stdin",
     "output_type": "stream",
     "text": [
      "How many neurons are in the input layer?  4\n",
      "How many hidden layers (including output) do you want ?  3\n",
      "How many neurons do you want in layer 1 3\n",
      "How many neurons do you want in layer 2 2\n",
      "How many neurons do you want in layer 3 1\n"
     ]
    },
    {
     "name": "stdout",
     "output_type": "stream",
     "text": [
      "{'w1': array([[0.1, 0.1, 0.1],\n",
      "       [0.1, 0.1, 0.1],\n",
      "       [0.1, 0.1, 0.1],\n",
      "       [0.1, 0.1, 0.1]]), 'b1': array([[0.],\n",
      "       [0.],\n",
      "       [0.]]), 'w2': array([[0.1, 0.1],\n",
      "       [0.1, 0.1],\n",
      "       [0.1, 0.1]]), 'b2': array([[0.],\n",
      "       [0.]]), 'w3': array([[0.1],\n",
      "       [0.1]]), 'b3': array([[0.]])}\n"
     ]
    },
    {
     "data": {
      "text/plain": [
       "<__main__.InitilizeParameter at 0x1784f7d6e10>"
      ]
     },
     "execution_count": 51,
     "metadata": {},
     "output_type": "execute_result"
    }
   ],
   "source": [
    "InitilizeParameter()"
   ]
  },
  {
   "cell_type": "code",
   "execution_count": null,
   "id": "b63415d9-57a2-41d0-8bfa-a08fac5eec1d",
   "metadata": {},
   "outputs": [],
   "source": []
  }
 ],
 "metadata": {
  "kernelspec": {
   "display_name": "Python [conda env:base] *",
   "language": "python",
   "name": "conda-base-py"
  },
  "language_info": {
   "codemirror_mode": {
    "name": "ipython",
    "version": 3
   },
   "file_extension": ".py",
   "mimetype": "text/x-python",
   "name": "python",
   "nbconvert_exporter": "python",
   "pygments_lexer": "ipython3",
   "version": "3.12.4"
  }
 },
 "nbformat": 4,
 "nbformat_minor": 5
}
