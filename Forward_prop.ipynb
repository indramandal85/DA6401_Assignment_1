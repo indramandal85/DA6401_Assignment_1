{
  "cells": [
    {
      "cell_type": "code",
      "execution_count": null,
      "id": "97fdccde-2af4-4495-83a8-ceab163b96d2",
      "metadata": {
        "id": "97fdccde-2af4-4495-83a8-ceab163b96d2"
      },
      "outputs": [],
      "source": [
        "\n",
        "class Pre_Feedforward:\n",
        "\n",
        "  def __init__(self, inputs, w, b, activation_fn):\n",
        "    self.ip= inputs\n",
        "    self.w = w\n",
        "    self.b = b\n",
        "    self.activation_fn = activation_fn\n",
        "    self.Preactivation_cal()\n",
        "\n",
        "\n",
        "  def Preactivation_cal(self):\n",
        "\n",
        "    A = np.dot(self.w, self.ip) + self.b\n",
        "    A_norm = (A - np.mean(A, axis=1, keepdims=True)) / np.std(A, axis=1, keepdims=True) #Activation Normalization\n",
        "    H = apply_activation(self.activation_fn, A_norm).do_activation()\n",
        "    #cache = (H, A)\n",
        "    #self.cache[\"Input\"] = self.Prev_layer_H\n",
        "    #self.cache[\"Pre_act\"] = H\n",
        "    return A , H\n",
        "\n",
        "class Feedforward:\n",
        "\n",
        "  def __init__(self,X_train, activation_fn, method, network):\n",
        "    self.input = X_train\n",
        "    self.activation_fn = activation_fn\n",
        "    self.method = method\n",
        "    self.network = network\n",
        "\n",
        "  def Forward_prop(self):\n",
        "\n",
        "    L = len(self.network)\n",
        "    # print(L)\n",
        "\n",
        "    for i in range(L):\n",
        "      # print(i)\n",
        "      # print(\"oth layer input\" , self.input.shape)\n",
        "\n",
        "      self.network[i].a, self.network[i].h = Pre_Feedforward(self.input, self.network[i].weight, self.network[i].bias, self.activation_fn[i]).Preactivation_cal()\n",
        "      self.input = self.network[i].a\n",
        "      # print(\"oth layer w\" , a[i].weight.shape)\n",
        "      # print(\"oth layer b\" , a[i].bias.shape)\n",
        "      # print(\"oth layer h\" , a[i].h.shape)\n",
        "      # print(\"oth layer a\" , a[i].a.shape)\n",
        "\n",
        "\n",
        "    return self.network\n"
      ]
    },
    {
      "cell_type": "code",
      "execution_count": null,
      "id": "5f21a0b5-7f50-467d-bcd1-36fd814b90b6",
      "metadata": {
        "id": "5f21a0b5-7f50-467d-bcd1-36fd814b90b6"
      },
      "outputs": [],
      "source": []
    }
  ],
  "metadata": {
    "kernelspec": {
      "display_name": "Python [conda env:base] *",
      "language": "python",
      "name": "conda-base-py"
    },
    "language_info": {
      "codemirror_mode": {
        "name": "ipython",
        "version": 3
      },
      "file_extension": ".py",
      "mimetype": "text/x-python",
      "name": "python",
      "nbconvert_exporter": "python",
      "pygments_lexer": "ipython3",
      "version": "3.12.4"
    },
    "colab": {
      "provenance": []
    }
  },
  "nbformat": 4,
  "nbformat_minor": 5
}