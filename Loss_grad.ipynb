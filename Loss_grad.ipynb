{
  "cells": [
    {
      "cell_type": "code",
      "execution_count": 11,
      "id": "702941a3-fcf8-4294-9fdc-a6335b776556",
      "metadata": {
        "id": "702941a3-fcf8-4294-9fdc-a6335b776556"
      },
      "outputs": [],
      "source": [
        "import numpy as np\n",
        "\n",
        "class CalLoss:\n",
        "    def __init__(self, y, y_pred):\n",
        "      if y.shape != y_pred.shape:\n",
        "            raise ValueError(f\"Shape mismatch: y shape is {y.shape}, y_predicted shape is {y_predicted.shape}\")\n",
        "      self.y = y\n",
        "      self.y_predicted = y_pred\n",
        "\n",
        "\n",
        "class CrossEntropy(CalLoss):\n",
        "\n",
        "    def give_celoss(self):\n",
        "        return -np.mean(self.y * np.log(self.y_predicted))\n",
        "\n",
        "    def Give_cegrad(self):\n",
        "        grad = -self.y/(self.y_predicted)\n",
        "        return grad\n",
        "\n",
        "class SquaredError(CalLoss):\n",
        "\n",
        "    def give_seloss(self):\n",
        "        return np.mean((self.y - self.y_predicted) ** 2)\n",
        "\n",
        "    def Give_segrad(self):\n",
        "        res = -2*(self.y - self.y_predicted)\n",
        "        return res\n",
        "\n",
        "class callloss(CalLoss):\n",
        "    def __init__(self, loss_function, y, y_pred):\n",
        "        self.loss_function = loss_function.lower()\n",
        "        super().__init__(y, y_pred)\n",
        "\n",
        "    def give_loss(self):\n",
        "        if self.loss_function == 'ce':\n",
        "            return CrossEntropy(self.y, self.y_predicted).give_celoss()\n",
        "        elif self.loss_function == 'se':\n",
        "            return SquaredError(self.y, self.y_predicted).give_seloss()\n",
        "        else:\n",
        "            raise ValueError(f\"Unknown loss function: {self.loss_function}\")\n",
        "\n",
        "    def give_gradloss(self):\n",
        "        if self.loss_function == 'ce':\n",
        "            return CrossEntropy(self.y, self.y_predicted).Give_cegrad()\n",
        "        elif self.loss_function == 'se':\n",
        "            return SquaredError(self.y, self.y_predicted).Give_segrad()\n",
        "        else:\n",
        "            raise ValueError(f\"Unknown loss function: {self.loss_function}\")"
      ]
    },
    {
      "cell_type": "code",
      "execution_count": 15,
      "id": "69513a36-6d99-4c36-af25-ef2ed7a491b6",
      "metadata": {
        "id": "69513a36-6d99-4c36-af25-ef2ed7a491b6"
      },
      "outputs": [],
      "source": [
        "y = np.array([[0, 1, 0,],\n",
        "             [1, 0, 0]])\n",
        "y_predicted = np.array([[0.2, 0.7, 0.1],\n",
        "                        [0.8, 0.1, 0.1]])"
      ]
    },
    {
      "cell_type": "code",
      "execution_count": 16,
      "id": "c0413b85-5c09-470f-badf-020fcaddb012",
      "metadata": {
        "colab": {
          "base_uri": "https://localhost:8080/"
        },
        "id": "c0413b85-5c09-470f-badf-020fcaddb012",
        "outputId": "5e9ab81f-4a6d-41b9-d85a-6e41097166f2"
      },
      "outputs": [
        {
          "output_type": "execute_result",
          "data": {
            "text/plain": [
              "array([[ 0.        , -1.42857143,  0.        ],\n",
              "       [-1.25      ,  0.        ,  0.        ]])"
            ]
          },
          "metadata": {},
          "execution_count": 16
        }
      ],
      "source": [
        "x = callloss('ce',y, y_predicted)\n",
        "x.give_gradloss()"
      ]
    },
    {
      "cell_type": "code",
      "execution_count": 17,
      "id": "bc3cb0ed-8f43-4d58-9d59-d784ed09dc1c",
      "metadata": {
        "id": "bc3cb0ed-8f43-4d58-9d59-d784ed09dc1c"
      },
      "outputs": [],
      "source": [
        "class CalculateAllLoss:\n",
        "  def __init__(self, X_train, y_predicted,network, y_true, primary_loss, weight_decay=0, regularisation_fn=None):\n",
        "    self.y_predicted = y_predicted\n",
        "    self.y_true = y_true\n",
        "    self.network = network\n",
        "    self.X_train = X_train\n",
        "    self.loss_value = primary_loss\n",
        "    self.weight_decay = weight_decay\n",
        "    self.regularisation_fn= regularisation_fn\n",
        "\n",
        "class OverallLoss(CalculateAllLoss):\n",
        "\n",
        "  def calc_total_loss(self):\n",
        "    total_loss = self.loss_value  # Compute primary loss\n",
        "\n",
        "    if self.weight_decay > 0 and self.regularisation_fn:\n",
        "        regularized_val = ApplyReg(self.regularisation_fn, layer_dimension, self.network).do_reg()\n",
        "        print(f\"Reg value: {regularized_val}\")\n",
        "        total_loss += self.weight_decay * regularized_val # Add regularization term if applicable  # Compute total loss\n",
        "\n",
        "    return total_loss\n",
        "\n",
        "\n",
        "class AccuracyLoss(CalculateAllLoss):\n",
        "\n",
        "  def calc_accuracy_loss(self):\n",
        "\n",
        "    total_loss = self.overall_loss()\n",
        "\n",
        "    # Ensure dimensions match between input and labels\n",
        "    assert self.X_train.shape[1] == self.y_true.shape[1], \"Mismatch in batch size between inputs and labels\"\n",
        "\n",
        "    # Compute accuracy by comparing predicted vs actual labels\n",
        "    batch_size = self.X_train.shape[1]  # Number of examples\n",
        "    correct_predictions = np.sum(np.argmax(self.y_predicted, axis=0) == np.argmax(self.y_true, axis=0))\n",
        "    accuracy = correct_predictions / batch_size  # Compute accuracy as a fraction\n",
        "\n",
        "    return accuracy, total_loss\n",
        "\n"
      ]
    },
    {
      "cell_type": "code",
      "source": [],
      "metadata": {
        "id": "sfC7Wg4hzpee"
      },
      "id": "sfC7Wg4hzpee",
      "execution_count": null,
      "outputs": []
    }
  ],
  "metadata": {
    "kernelspec": {
      "display_name": "Python [conda env:base] *",
      "language": "python",
      "name": "conda-base-py"
    },
    "language_info": {
      "codemirror_mode": {
        "name": "ipython",
        "version": 3
      },
      "file_extension": ".py",
      "mimetype": "text/x-python",
      "name": "python",
      "nbconvert_exporter": "python",
      "pygments_lexer": "ipython3",
      "version": "3.12.4"
    },
    "colab": {
      "provenance": []
    }
  },
  "nbformat": 4,
  "nbformat_minor": 5
}