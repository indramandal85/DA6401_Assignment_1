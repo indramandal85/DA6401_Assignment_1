{
 "cells": [
  {
   "cell_type": "code",
   "execution_count": 1,
   "id": "702941a3-fcf8-4294-9fdc-a6335b776556",
   "metadata": {},
   "outputs": [],
   "source": [
    "import numpy as np\n",
    "\n",
    "class crossentropy:\n",
    "\n",
    "    def __init__(self, y, y_predicted):\n",
    "        self.y = y\n",
    "        self.y_predicted = y_predicted\n",
    "        self.give_celoss()\n",
    "        \n",
    "    def give_celoss(self):\n",
    "        threshold = 10**(-8)\n",
    "        res = np.sum(y * (-np.log(y_predicted)))\n",
    "        return res\n",
    "\n",
    "class squarderror:\n",
    "\n",
    "    def __init__(self, y, y_predicted):\n",
    "        self.y = y\n",
    "        self.y_predicted = y_predicted\n",
    "        self.give_seloss()\n",
    "\n",
    "    def give_seloss(self):\n",
    "        res = np.square(y - y_predicted)\n",
    "        return np.sum(res)\n",
    "\n",
    "\n",
    "class callloss:\n",
    "\n",
    "    def __init__(self,loss_function, value1, value2):\n",
    "        self.loss_function = loss_function.lower()\n",
    "        self.value1 = value1\n",
    "        self.value2 = value2\n",
    "        self.give_loss()\n",
    "\n",
    "    def give_loss(self):\n",
    "        if self.loss_function == 'ce':\n",
    "            return crossentropy(self.value1, self.value2).give_celoss()\n",
    "        if self.loss_function == 'se':\n",
    "            return squarderror(self.value1, self.value2).give_seloss()\n",
    "\n",
    "class crossentropy_grad:\n",
    "\n",
    "    def __init__(self,y ,y_predicted):\n",
    "        self.y = y\n",
    "        self.y_predicted = y_predicted\n",
    "        self.Give_cegrad()\n",
    "\n",
    "    def Give_cegrad(self):\n",
    "        None\n",
    "\n",
    "\n",
    "class squarederror_grad:\n",
    "\n",
    "    def __init__(self,y , y_predicted):\n",
    "        self.y = y\n",
    "        self.y_predicted = y_predicted\n",
    "        self.Give_segrad()\n",
    "\n",
    "    def Give_segrad(self):\n",
    "        res = -np.sum(y - y_predicted)\n",
    "        return res\n",
    "\n",
    "class call_lossgrad:\n",
    "\n",
    "    def __init__(self,loss_function, value1, value2):\n",
    "        self.loss_function = loss_function.lower()\n",
    "        self.value1 = value1\n",
    "        self.value2 = value2\n",
    "        self.give_gradloss()\n",
    "\n",
    "    def give_gradloss(self):\n",
    "        if self.loss_function == 'ce':\n",
    "            return crossentropy_grad(self.value1, self.value2).Give_cegrad()\n",
    "        if self.loss_function == 'se':\n",
    "            return squarederror_grad(self.value1, self.value2).Give_segrad()"
   ]
  },
  {
   "cell_type": "code",
   "execution_count": 44,
   "id": "69513a36-6d99-4c36-af25-ef2ed7a491b6",
   "metadata": {},
   "outputs": [],
   "source": [
    "y = np.array([[0, 1, 0,], [1, 0, 0]])\n",
    "y_predicted = np.array([[0.2, 0.7, 0.1], [0.8, 0.1, 0.1]])"
   ]
  },
  {
   "cell_type": "code",
   "execution_count": 48,
   "id": "c0413b85-5c09-470f-badf-020fcaddb012",
   "metadata": {},
   "outputs": [
    {
     "data": {
      "text/plain": [
       "<__main__.callloss at 0x1ea15399bb0>"
      ]
     },
     "execution_count": 48,
     "metadata": {},
     "output_type": "execute_result"
    }
   ],
   "source": [
    "call_loss('se',y, y_predicted)"
   ]
  },
  {
   "cell_type": "code",
   "execution_count": null,
   "id": "bc3cb0ed-8f43-4d58-9d59-d784ed09dc1c",
   "metadata": {},
   "outputs": [],
   "source": []
  }
 ],
 "metadata": {
  "kernelspec": {
   "display_name": "Python [conda env:base] *",
   "language": "python",
   "name": "conda-base-py"
  },
  "language_info": {
   "codemirror_mode": {
    "name": "ipython",
    "version": 3
   },
   "file_extension": ".py",
   "mimetype": "text/x-python",
   "name": "python",
   "nbconvert_exporter": "python",
   "pygments_lexer": "ipython3",
   "version": "3.12.4"
  }
 },
 "nbformat": 4,
 "nbformat_minor": 5
}
